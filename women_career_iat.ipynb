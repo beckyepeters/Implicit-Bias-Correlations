{
 "cells": [
  {
   "cell_type": "markdown",
   "id": "permanent-asthma",
   "metadata": {},
   "source": [
    "### Gender-Career Implicit Association Test Data, 2005-2020"
   ]
  },
  {
   "cell_type": "markdown",
   "id": "posted-variance",
   "metadata": {},
   "source": [
    "#### Imports & Reading in .sav Files"
   ]
  },
  {
   "cell_type": "code",
   "execution_count": 3,
   "id": "bright-tactics",
   "metadata": {},
   "outputs": [],
   "source": [
    "import pandas as pd \n",
    "import numpy as np\n",
    "import matplotlib.pyplot as plt\n",
    "import pyreadstat\n",
    "import glob\n",
    "import seaborn as sns"
   ]
  },
  {
   "cell_type": "code",
   "execution_count": 4,
   "id": "wired-ozone",
   "metadata": {},
   "outputs": [
    {
     "name": "stdout",
     "output_type": "stream",
     "text": [
      "CPU times: user 1min 22s, sys: 22.2 s, total: 1min 44s\n",
      "Wall time: 1min 46s\n"
     ]
    }
   ],
   "source": [
    "%%time\n",
    "\n",
    "df_lst = []\n",
    "files = glob.glob(\"data/gender_career_data/Gender*.sav\")\n",
    "\n",
    "for f in files:\n",
    "    data = pd.read_spss(f)\n",
    "    df_lst.append(data)\n",
    "\n",
    "all_data = pd.concat(df_lst)    \n"
   ]
  },
  {
   "cell_type": "code",
   "execution_count": 5,
   "id": "identified-measure",
   "metadata": {},
   "outputs": [
    {
     "data": {
      "text/plain": [
       "session_id        3159286\n",
       "session_status    3159286\n",
       "study_name        3159286\n",
       "date              3159286\n",
       "month             3159286\n",
       "                   ...   \n",
       "sius008             30789\n",
       "sius009             30778\n",
       "sius010             30772\n",
       "sius011             30777\n",
       "sius012             30762\n",
       "Length: 192, dtype: int64"
      ]
     },
     "execution_count": 5,
     "metadata": {},
     "output_type": "execute_result"
    }
   ],
   "source": [
    "all_data.count()"
   ]
  },
  {
   "cell_type": "code",
   "execution_count": 6,
   "id": "killing-borough",
   "metadata": {},
   "outputs": [
    {
     "data": {
      "text/plain": [
       "0.515223376421128"
      ]
     },
     "execution_count": 6,
     "metadata": {},
     "output_type": "execute_result"
    }
   ],
   "source": [
    "pct_completion = 1627738 / 3159286\n",
    "pct_completion"
   ]
  },
  {
   "cell_type": "markdown",
   "id": "silent-telescope",
   "metadata": {},
   "source": [
    "#### Removing Irrelevant columns / indexes"
   ]
  },
  {
   "cell_type": "code",
   "execution_count": 7,
   "id": "hidden-crime",
   "metadata": {},
   "outputs": [
    {
     "data": {
      "text/plain": [
       "session_id        1627738\n",
       "session_status    1627738\n",
       "study_name        1627738\n",
       "date              1627738\n",
       "month             1627738\n",
       "                   ...   \n",
       "sius008             23089\n",
       "sius009             23081\n",
       "sius010             23082\n",
       "sius011             23086\n",
       "sius012             23074\n",
       "Length: 192, dtype: int64"
      ]
     },
     "execution_count": 7,
     "metadata": {},
     "output_type": "execute_result"
    }
   ],
   "source": [
    "all_data[all_data['session_status'] == 'C'].count()"
   ]
  },
  {
   "cell_type": "code",
   "execution_count": 8,
   "id": "commercial-underground",
   "metadata": {},
   "outputs": [],
   "source": [
    "to_drop = ['assocareer', 'assofamily', 'impcareer', 'impfamily', 'num_childunder18', 'actualduties', 'idealduties', 'primary1', 'num_primary1a', 'secondary1', 'num_secondary1a', 'surnameused', 'iatevaluations001', 'iatevaluations002', 'iatevaluations003', 'broughtwebsite', 'user_id', 'previous_session_id', 'previous_session_schema', 'havechildren', 'numboys', 'numgirls', 'planchildren', 'childunder18', 'primary1a', 'primary1aa', 'secondary1a', 'secondary1aa', 'q2a',\n",
    " 'q2b',\n",
    " 'q2c',\n",
    " 'q2d',\n",
    " 'q3a',\n",
    " 'q3b',\n",
    " 'q3c',\n",
    " 'q4', 'politicalid_6',\n",
    " 'femaleceos',\n",
    " 'femalepres',\n",
    " 'femalepres_2006',\n",
    " 'religion',\n",
    " 'femalepres_2007', 'hillary.hillary1',\n",
    " 'hillary.hillary2',\n",
    " 'hillary.hillary3',\n",
    " 'hillary.hillary4',\n",
    " 'hillary.hillary5',\n",
    " 'hillary.hillary6',\n",
    " 'hillary.hillary7',\n",
    " 'hillary.hillary8',\n",
    " 'hillary.hillary9',\n",
    " 'hillary.hillary10',\n",
    " 'hillarycomp',\n",
    " 'hillarytherm',\n",
    " 'hillaryvote',\n",
    " 'deathanxiety001',\n",
    " 'deathanxiety002',\n",
    " 'deathanxiety003',\n",
    " 'deathanxiety004',\n",
    " 'deathanxiety005',\n",
    " 'deathanxiety006',\n",
    " 'deathanxiety007',\n",
    " 'deathanxiety008',\n",
    " 'deathanxiety009',\n",
    " 'deathanxiety010',\n",
    " 'deathanxiety011',\n",
    " 'deathanxiety012',\n",
    " 'deathanxiety013',\n",
    " 'deathanxiety014',\n",
    " 'deathanxiety015',\n",
    " 'fearcovid001',\n",
    " 'fearcovid002',\n",
    " 'fearcovid003',\n",
    " 'fearcovid004',\n",
    " 'fearcovid005',\n",
    " 'fearcovid006',\n",
    " 'fearcovid007',\n",
    " 'fearcovid008',\n",
    " 'pvd001',\n",
    " 'pvd002',\n",
    " 'pvd003',\n",
    " 'pvd004',\n",
    " 'pvd005',\n",
    " 'pvd006',\n",
    " 'pvd007',\n",
    " 'pvd008',\n",
    " 'pvd009',\n",
    " 'pvd010',\n",
    " 'pvd011',\n",
    " 'pvd012',\n",
    " 'pvd013',\n",
    " 'pvd014',\n",
    " 'pvd015',\n",
    " 'sius001',\n",
    " 'sius002',\n",
    " 'sius003',\n",
    " 'sius004',\n",
    " 'sius005',\n",
    " 'sius006',\n",
    " 'sius007',\n",
    " 'sius008',\n",
    " 'sius009',\n",
    " 'sius010',\n",
    " 'sius011',\n",
    " 'sius012', 'religion2009', 'religion2014']"
   ]
  },
  {
   "cell_type": "code",
   "execution_count": 9,
   "id": "secondary-weapon",
   "metadata": {},
   "outputs": [],
   "source": [
    "all_data.drop(to_drop, inplace=True, axis=1)\n"
   ]
  },
  {
   "cell_type": "code",
   "execution_count": 10,
   "id": "adult-depression",
   "metadata": {},
   "outputs": [],
   "source": [
    "completed_tests = all_data[all_data['session_status']=='C']"
   ]
  },
  {
   "cell_type": "markdown",
   "id": "premium-gospel",
   "metadata": {},
   "source": [
    "##### Combining Multiple Education columns"
   ]
  },
  {
   "cell_type": "code",
   "execution_count": 11,
   "id": "collective-click",
   "metadata": {},
   "outputs": [
    {
     "name": "stderr",
     "output_type": "stream",
     "text": [
      "/opt/anaconda3/lib/python3.7/site-packages/pandas/core/series.py:4469: SettingWithCopyWarning: \n",
      "A value is trying to be set on a copy of a slice from a DataFrame\n",
      "\n",
      "See the caveats in the documentation: https://pandas.pydata.org/pandas-docs/stable/user_guide/indexing.html#returning-a-view-versus-a-copy\n",
      "  downcast=downcast,\n"
     ]
    }
   ],
   "source": [
    "completed_tests.loc[:, 'edu_14'].fillna(completed_tests.edu_13, inplace=True)"
   ]
  },
  {
   "cell_type": "code",
   "execution_count": 12,
   "id": "rational-spring",
   "metadata": {},
   "outputs": [
    {
     "data": {
      "text/plain": [
       "0                         NaN\n",
       "2                         NaN\n",
       "4                some college\n",
       "9           bachelor's degree\n",
       "11            master's degree\n",
       "                 ...         \n",
       "92155         master's degree\n",
       "92156       bachelor's degree\n",
       "92158       bachelor's degree\n",
       "92159    some graduate school\n",
       "92163                     NaN\n",
       "Name: edu_14, Length: 1627738, dtype: object"
      ]
     },
     "execution_count": 12,
     "metadata": {},
     "output_type": "execute_result"
    }
   ],
   "source": [
    "completed_tests.loc[:, 'edu_14'].replace(['M.B.A.'],'other advanced degree')\n"
   ]
  },
  {
   "cell_type": "code",
   "execution_count": 13,
   "id": "informed-software",
   "metadata": {},
   "outputs": [
    {
     "name": "stderr",
     "output_type": "stream",
     "text": [
      "/opt/anaconda3/lib/python3.7/site-packages/pandas/core/frame.py:4315: SettingWithCopyWarning: \n",
      "A value is trying to be set on a copy of a slice from a DataFrame\n",
      "\n",
      "See the caveats in the documentation: https://pandas.pydata.org/pandas-docs/stable/user_guide/indexing.html#returning-a-view-versus-a-copy\n",
      "  errors=errors,\n"
     ]
    }
   ],
   "source": [
    "completed_tests.drop(labels='edu_13', inplace=True, axis=1)"
   ]
  },
  {
   "cell_type": "code",
   "execution_count": 14,
   "id": "straight-flooring",
   "metadata": {},
   "outputs": [
    {
     "data": {
      "text/plain": [
       "2020.0    259267\n",
       "2019.0    192586\n",
       "2018.0    183444\n",
       "2017.0    172266\n",
       "2016.0    145261\n",
       "2015.0    112271\n",
       "2013.0     71819\n",
       "2014.0     71604\n",
       "2012.0     67749\n",
       "2009.0     55598\n",
       "2011.0     55051\n",
       "2006.0     54665\n",
       "2010.0     53105\n",
       "2007.0     47474\n",
       "2008.0     47015\n",
       "2005.0     38563\n",
       "Name: year, dtype: int64"
      ]
     },
     "execution_count": 14,
     "metadata": {},
     "output_type": "execute_result"
    }
   ],
   "source": [
    "completed_tests.year.value_counts()"
   ]
  },
  {
   "cell_type": "code",
   "execution_count": 15,
   "id": "apart-planner",
   "metadata": {},
   "outputs": [
    {
     "name": "stderr",
     "output_type": "stream",
     "text": [
      "/opt/anaconda3/lib/python3.7/site-packages/pandas/core/frame.py:4449: SettingWithCopyWarning: \n",
      "A value is trying to be set on a copy of a slice from a DataFrame\n",
      "\n",
      "See the caveats in the documentation: https://pandas.pydata.org/pandas-docs/stable/user_guide/indexing.html#returning-a-view-versus-a-copy\n",
      "  errors=errors,\n"
     ]
    }
   ],
   "source": [
    "completed_tests.rename(columns={'edu_14': 'edu_13'}, inplace=True)"
   ]
  },
  {
   "cell_type": "code",
   "execution_count": 16,
   "id": "operational-solution",
   "metadata": {},
   "outputs": [
    {
     "data": {
      "text/plain": [
       " 5.0      357062\n",
       " 7.0      320972\n",
       " 9.0      185302\n",
       " 4.0      115276\n",
       " 3.0      110160\n",
       " 8.0       99727\n",
       " 6.0       99003\n",
       " 14.0      53405\n",
       " 12.0      50777\n",
       " 10.0      27845\n",
       " 11.0      17892\n",
       "-999.0     16694\n",
       " 2.0       14592\n",
       " 13.0      12239\n",
       " 1.0        2924\n",
       "Name: edu, dtype: int64"
      ]
     },
     "execution_count": 16,
     "metadata": {},
     "output_type": "execute_result"
    }
   ],
   "source": [
    "completed_tests.edu.value_counts()"
   ]
  },
  {
   "cell_type": "code",
   "execution_count": 17,
   "id": "answering-bacon",
   "metadata": {},
   "outputs": [],
   "source": [
    "comp_tests = completed_tests.copy()\n",
    "comp_tests.drop('edu', inplace=True, axis=1)"
   ]
  },
  {
   "cell_type": "code",
   "execution_count": 18,
   "id": "designing-discovery",
   "metadata": {},
   "outputs": [
    {
     "data": {
      "text/plain": [
       "some college             357062\n",
       "bachelor's degree        320972\n",
       "master's degree          185302\n",
       "high school graduate     115276\n",
       "some high school         110160\n",
       "some graduate school      99727\n",
       "associate's degree        99003\n",
       "M.B.A.                    53405\n",
       "Ph.D.                     50777\n",
       "J.D.                      27845\n",
       "M.D.                      17892\n",
       "-999.0                    16694\n",
       "junior high               14592\n",
       "other advanced degree     12239\n",
       "elementary school          2924\n",
       "Name: edu_13, dtype: int64"
      ]
     },
     "execution_count": 18,
     "metadata": {},
     "output_type": "execute_result"
    }
   ],
   "source": [
    "comp_tests.edu_13.value_counts()"
   ]
  },
  {
   "cell_type": "markdown",
   "id": "foreign-convenience",
   "metadata": {},
   "source": [
    "Remove participants with high rates of error (more than 30%) or with too many fast trials (more than 10%)"
   ]
  },
  {
   "cell_type": "markdown",
   "id": "coordinate-sydney",
   "metadata": {},
   "source": [
    "IF  (pct_300<=10 & PCT_error_3467<=30)Error='No'.\n",
    "IF  (pct_300>10 OR PCT_error_3467>30) Error='Yes'."
   ]
  },
  {
   "cell_type": "code",
   "execution_count": 19,
   "id": "elect-tension",
   "metadata": {},
   "outputs": [],
   "source": [
    "comp_tests.drop(comp_tests.index[comp_tests['pct_300'] >10], inplace=True)"
   ]
  },
  {
   "cell_type": "code",
   "execution_count": 20,
   "id": "naval-poetry",
   "metadata": {},
   "outputs": [
    {
     "data": {
      "text/plain": [
       "1481954"
      ]
     },
     "execution_count": 20,
     "metadata": {},
     "output_type": "execute_result"
    }
   ],
   "source": [
    "comp_tests.pct_300.count()"
   ]
  },
  {
   "cell_type": "code",
   "execution_count": 21,
   "id": "alternative-checklist",
   "metadata": {},
   "outputs": [],
   "source": [
    "comp_tests.drop(comp_tests.index[comp_tests['PCT_error_3467'] >30], inplace=True)"
   ]
  },
  {
   "cell_type": "code",
   "execution_count": 22,
   "id": "crazy-tooth",
   "metadata": {},
   "outputs": [
    {
     "data": {
      "text/plain": [
       "1442692"
      ]
     },
     "execution_count": 22,
     "metadata": {},
     "output_type": "execute_result"
    }
   ],
   "source": [
    "comp_tests.PCT_error_3467.count()"
   ]
  },
  {
   "cell_type": "code",
   "execution_count": 23,
   "id": "homeless-tennis",
   "metadata": {},
   "outputs": [],
   "source": [
    "comp_tests.rename(columns={'D_biep.Male_Career_all': 'Implicit'}, inplace=True)"
   ]
  },
  {
   "cell_type": "code",
   "execution_count": 24,
   "id": "instrumental-reggae",
   "metadata": {},
   "outputs": [
    {
     "name": "stdout",
     "output_type": "stream",
     "text": [
      "<class 'pandas.core.frame.DataFrame'>\n",
      "Int64Index: 1468590 entries, 0 to 92163\n",
      "Data columns (total 83 columns):\n",
      " #   Column                 Non-Null Count    Dtype   \n",
      "---  ------                 --------------    -----   \n",
      " 0   session_id             1468590 non-null  float64 \n",
      " 1   session_status         1468590 non-null  object  \n",
      " 2   study_name             1468590 non-null  object  \n",
      " 3   date                   1468590 non-null  float64 \n",
      " 4   month                  1468590 non-null  float64 \n",
      " 5   day                    1468590 non-null  float64 \n",
      " 6   year                   1468590 non-null  float64 \n",
      " 7   hour                   1468590 non-null  float64 \n",
      " 8   weekday                1468590 non-null  float64 \n",
      " 9   birthmonth             781589 non-null   float64 \n",
      " 10  birthyear              759174 non-null   float64 \n",
      " 11  num_002                784439 non-null   object  \n",
      " 12  birthSex               561349 non-null   float64 \n",
      " 13  genderIdentity         588084 non-null   object  \n",
      " 14  ethnicityomb           1238710 non-null  object  \n",
      " 15  raceomb_002            720451 non-null   object  \n",
      " 16  raceombmulti           879322 non-null   object  \n",
      " 17  Implicit               1442690 non-null  float64 \n",
      " 18  Mn_RT_all_3467         1442692 non-null  float64 \n",
      " 19  N_3467                 1442692 non-null  float64 \n",
      " 20  PCT_error_3467         1442692 non-null  float64 \n",
      " 21  Order                  1442692 non-null  category\n",
      " 22  Side_Career_34         1442692 non-null  object  \n",
      " 23  Side_Male_34           1442692 non-null  object  \n",
      " 24  pct_300                1442692 non-null  float64 \n",
      " 25  pct_400                1442692 non-null  float64 \n",
      " 26  pct_2K                 1442692 non-null  float64 \n",
      " 27  pct_3K                 1442692 non-null  float64 \n",
      " 28  pct_4K                 1442692 non-null  float64 \n",
      " 29  anninc                 1178019 non-null  object  \n",
      " 30  percentanninc          1224256 non-null  object  \n",
      " 31  D_biep.Male_Career_36  1442690 non-null  float64 \n",
      " 32  D_biep.Male_Career_47  1442692 non-null  float64 \n",
      " 33  Mn_RT_all_3            1442691 non-null  float64 \n",
      " 34  Mn_RT_all_4            1442692 non-null  float64 \n",
      " 35  Mn_RT_all_6            1442691 non-null  float64 \n",
      " 36  Mn_RT_all_7            1442692 non-null  float64 \n",
      " 37  SD_all_3               1442691 non-null  float64 \n",
      " 38  SD_all_4               1442692 non-null  float64 \n",
      " 39  SD_all_6               1442691 non-null  float64 \n",
      " 40  SD_all_7               1442692 non-null  float64 \n",
      " 41  N_3                    1442692 non-null  float64 \n",
      " 42  N_4                    1442692 non-null  float64 \n",
      " 43  N_5                    1442691 non-null  float64 \n",
      " 44  N_6                    1442692 non-null  float64 \n",
      " 45  N_7                    1442692 non-null  float64 \n",
      " 46  Mn_RT_correct_3        1442693 non-null  float64 \n",
      " 47  Mn_RT_correct_4        1442694 non-null  float64 \n",
      " 48  Mn_RT_correct_6        1442694 non-null  float64 \n",
      " 49  Mn_RT_correct_7        1442694 non-null  float64 \n",
      " 50  SD_correct_3           1442693 non-null  float64 \n",
      " 51  SD_correct_4           1442694 non-null  float64 \n",
      " 52  SD_correct_6           1442693 non-null  float64 \n",
      " 53  SD_correct_7           1442694 non-null  float64 \n",
      " 54  N_ERROR_3              1442695 non-null  float64 \n",
      " 55  N_ERROR_4              1442695 non-null  float64 \n",
      " 56  N_ERROR_6              1442695 non-null  float64 \n",
      " 57  N_ERROR_7              1442695 non-null  float64 \n",
      " 58  countrycit_num         770465 non-null   object  \n",
      " 59  countryres_num         769638 non-null   object  \n",
      " 60  edu_13                 1344320 non-null  object  \n",
      " 61  occuSelf               588084 non-null   object  \n",
      " 62  occuSelfDetail         588084 non-null   object  \n",
      " 63  politicalid_7          1268500 non-null  object  \n",
      " 64  STATE                  1468590 non-null  object  \n",
      " 65  MSANo                  1468590 non-null  object  \n",
      " 66  CountyNo               1468590 non-null  object  \n",
      " 67  MSAName                1468590 non-null  object  \n",
      " 68  religionid             1147464 non-null  object  \n",
      " 69  age                    571626 non-null   float64 \n",
      " 70  num                    722413 non-null   object  \n",
      " 71  sex                    722413 non-null   object  \n",
      " 72  countrycit             722413 non-null   object  \n",
      " 73  countryres             722413 non-null   object  \n",
      " 74  raceomb                587475 non-null   object  \n",
      " 75  major                  470096 non-null   object  \n",
      " 76  occupation             689513 non-null   object  \n",
      " 77  politicalid            636054 non-null   float64 \n",
      " 78  ethnic                 54749 non-null    object  \n",
      " 79  birthsex               232588 non-null   float64 \n",
      " 80  genderidentity         291238 non-null   object  \n",
      " 81  occuself               291238 non-null   object  \n",
      " 82  occuselfdetail         291238 non-null   object  \n",
      "dtypes: category(1), float64(49), object(33)\n",
      "memory usage: 931.4+ MB\n"
     ]
    }
   ],
   "source": [
    "comp_tests.info()"
   ]
  },
  {
   "cell_type": "code",
   "execution_count": 25,
   "id": "acting-boating",
   "metadata": {},
   "outputs": [
    {
     "data": {
      "text/plain": [
       "0      432100\n",
       "1      196332\n",
       "2       80040\n",
       "3-5     59851\n",
       "6+      16116\n",
       "Name: num_002, dtype: int64"
      ]
     },
     "execution_count": 25,
     "metadata": {},
     "output_type": "execute_result"
    }
   ],
   "source": [
    "comp_tests.num_002.value_counts()"
   ]
  },
  {
   "cell_type": "code",
   "execution_count": 26,
   "id": "eleven-affairs",
   "metadata": {},
   "outputs": [],
   "source": [
    "more_drops = ['birthmonth', \n",
    "              'num_002', \n",
    "              'N_3467',\n",
    "              'Order', \n",
    "              'Side_Career_34', \n",
    "              'Side_Male_34', \n",
    "              'pct_300', \n",
    "              'pct_400', \n",
    "              'pct_2K', \n",
    "              'pct_3K', \n",
    "              'pct_4K', \n",
    "              'Mn_RT_all_3', \n",
    "              'Mn_RT_all_4', \n",
    "              'Mn_RT_all_6', \n",
    "              'Mn_RT_all_7', \n",
    "              'SD_all_3', \n",
    "              'SD_all_4', \n",
    "              'SD_all_6', \n",
    "              'SD_all_7', \n",
    "              'N_3', \n",
    "              'N_4', \n",
    "              'N_6', \n",
    "              'N_7', \n",
    "              'Mn_RT_correct_3', \n",
    "              'Mn_RT_correct_4', \n",
    "              'Mn_RT_correct_6', \n",
    "              'Mn_RT_correct_7', \n",
    "              'SD_correct_3', \n",
    "              'SD_correct_4', \n",
    "              'SD_correct_6', \n",
    "              'SD_correct_7', \n",
    "              'N_ERROR_3', \n",
    "              'N_ERROR_4', \n",
    "              'N_ERROR_6', \n",
    "              'N_ERROR_7', \n",
    "              'occuSelfDetail', \n",
    "              'major', 'occuSelf', 'occuself', 'occuselfdetail']"
   ]
  },
  {
   "cell_type": "code",
   "execution_count": 27,
   "id": "synthetic-delicious",
   "metadata": {},
   "outputs": [],
   "source": [
    "comp_less = comp_tests.copy()"
   ]
  },
  {
   "cell_type": "code",
   "execution_count": 28,
   "id": "convenient-canberra",
   "metadata": {},
   "outputs": [],
   "source": [
    "comp_less.drop(more_drops, axis=1, inplace=True)"
   ]
  },
  {
   "cell_type": "code",
   "execution_count": 29,
   "id": "moral-combining",
   "metadata": {},
   "outputs": [
    {
     "name": "stdout",
     "output_type": "stream",
     "text": [
      "<class 'pandas.core.frame.DataFrame'>\n",
      "Int64Index: 1468590 entries, 0 to 92163\n",
      "Data columns (total 43 columns):\n",
      " #   Column                 Non-Null Count    Dtype  \n",
      "---  ------                 --------------    -----  \n",
      " 0   session_id             1468590 non-null  float64\n",
      " 1   session_status         1468590 non-null  object \n",
      " 2   study_name             1468590 non-null  object \n",
      " 3   date                   1468590 non-null  float64\n",
      " 4   month                  1468590 non-null  float64\n",
      " 5   day                    1468590 non-null  float64\n",
      " 6   year                   1468590 non-null  float64\n",
      " 7   hour                   1468590 non-null  float64\n",
      " 8   weekday                1468590 non-null  float64\n",
      " 9   birthyear              759174 non-null   float64\n",
      " 10  birthSex               561349 non-null   float64\n",
      " 11  genderIdentity         588084 non-null   object \n",
      " 12  ethnicityomb           1238710 non-null  object \n",
      " 13  raceomb_002            720451 non-null   object \n",
      " 14  raceombmulti           879322 non-null   object \n",
      " 15  Implicit               1442690 non-null  float64\n",
      " 16  Mn_RT_all_3467         1442692 non-null  float64\n",
      " 17  PCT_error_3467         1442692 non-null  float64\n",
      " 18  anninc                 1178019 non-null  object \n",
      " 19  percentanninc          1224256 non-null  object \n",
      " 20  D_biep.Male_Career_36  1442690 non-null  float64\n",
      " 21  D_biep.Male_Career_47  1442692 non-null  float64\n",
      " 22  N_5                    1442691 non-null  float64\n",
      " 23  countrycit_num         770465 non-null   object \n",
      " 24  countryres_num         769638 non-null   object \n",
      " 25  edu_13                 1344320 non-null  object \n",
      " 26  politicalid_7          1268500 non-null  object \n",
      " 27  STATE                  1468590 non-null  object \n",
      " 28  MSANo                  1468590 non-null  object \n",
      " 29  CountyNo               1468590 non-null  object \n",
      " 30  MSAName                1468590 non-null  object \n",
      " 31  religionid             1147464 non-null  object \n",
      " 32  age                    571626 non-null   float64\n",
      " 33  num                    722413 non-null   object \n",
      " 34  sex                    722413 non-null   object \n",
      " 35  countrycit             722413 non-null   object \n",
      " 36  countryres             722413 non-null   object \n",
      " 37  raceomb                587475 non-null   object \n",
      " 38  occupation             689513 non-null   object \n",
      " 39  politicalid            636054 non-null   float64\n",
      " 40  ethnic                 54749 non-null    object \n",
      " 41  birthsex               232588 non-null   float64\n",
      " 42  genderidentity         291238 non-null   object \n",
      "dtypes: float64(18), object(25)\n",
      "memory usage: 493.0+ MB\n"
     ]
    }
   ],
   "source": [
    "comp_less.info()"
   ]
  },
  {
   "cell_type": "code",
   "execution_count": 30,
   "id": "israeli-copyright",
   "metadata": {},
   "outputs": [
    {
     "data": {
      "text/plain": [
       "2.0    381566\n",
       "1.0    179783\n",
       "Name: birthSex, dtype: int64"
      ]
     },
     "execution_count": 30,
     "metadata": {},
     "output_type": "execute_result"
    }
   ],
   "source": [
    "comp_less.birthSex.value_counts()"
   ]
  },
  {
   "cell_type": "code",
   "execution_count": 31,
   "id": "military-spectrum",
   "metadata": {},
   "outputs": [
    {
     "data": {
      "text/plain": [
       "2.0    154172\n",
       "1.0     78416\n",
       "Name: birthsex, dtype: int64"
      ]
     },
     "execution_count": 31,
     "metadata": {},
     "output_type": "execute_result"
    }
   ],
   "source": [
    "comp_less.birthsex.value_counts()"
   ]
  },
  {
   "cell_type": "code",
   "execution_count": 32,
   "id": "mineral-soundtrack",
   "metadata": {},
   "outputs": [
    {
     "data": {
      "text/plain": [
       "0        1.0\n",
       "2        2.0\n",
       "4        1.0\n",
       "9        1.0\n",
       "11       1.0\n",
       "        ... \n",
       "92154    NaN\n",
       "92156    NaN\n",
       "92158    NaN\n",
       "92159    NaN\n",
       "92163    NaN\n",
       "Name: birthSex, Length: 1468590, dtype: float64"
      ]
     },
     "execution_count": 32,
     "metadata": {},
     "output_type": "execute_result"
    }
   ],
   "source": [
    "comp_less.loc[:, ('birthSex')]"
   ]
  },
  {
   "cell_type": "markdown",
   "id": "ready-table",
   "metadata": {},
   "source": [
    "Combining multiple birthsex & sex identity columns"
   ]
  },
  {
   "cell_type": "code",
   "execution_count": 33,
   "id": "informal-shareware",
   "metadata": {},
   "outputs": [],
   "source": [
    "comp_less.loc[:, 'birthSex'].fillna(comp_less.birthsex, inplace=True)"
   ]
  },
  {
   "cell_type": "code",
   "execution_count": 34,
   "id": "polyphonic-mailman",
   "metadata": {},
   "outputs": [
    {
     "data": {
      "text/plain": [
       "2.0    535738\n",
       "1.0    258199\n",
       "Name: birthSex, dtype: int64"
      ]
     },
     "execution_count": 34,
     "metadata": {},
     "output_type": "execute_result"
    }
   ],
   "source": [
    "comp_less.birthSex.value_counts()"
   ]
  },
  {
   "cell_type": "code",
   "execution_count": 35,
   "id": "inner-percentage",
   "metadata": {},
   "outputs": [],
   "source": [
    "comp_less.drop(columns='birthsex', axis=1, inplace=True)"
   ]
  },
  {
   "cell_type": "code",
   "execution_count": 36,
   "id": "silver-farming",
   "metadata": {},
   "outputs": [],
   "source": [
    "comp_less.loc[:, 'genderIdentity'].fillna(comp_less.genderidentity, inplace=True)"
   ]
  },
  {
   "cell_type": "code",
   "execution_count": 37,
   "id": "inside-melissa",
   "metadata": {},
   "outputs": [],
   "source": [
    "comp_less.drop(columns='ethnic', axis=1, inplace=True)"
   ]
  },
  {
   "cell_type": "code",
   "execution_count": 38,
   "id": "liquid-satellite",
   "metadata": {},
   "outputs": [],
   "source": [
    "comp_less.drop(columns='raceombmulti', axis=1, inplace=True)"
   ]
  },
  {
   "cell_type": "code",
   "execution_count": 39,
   "id": "selected-providence",
   "metadata": {},
   "outputs": [],
   "source": [
    "comp_less.drop(columns=['D_biep.Male_Career_36', 'D_biep.Male_Career_47', 'N_5'], axis=1, inplace=True)"
   ]
  },
  {
   "cell_type": "code",
   "execution_count": 40,
   "id": "according-hybrid",
   "metadata": {},
   "outputs": [],
   "source": [
    "comp_less.drop(columns=['politicalid'], axis=1, inplace=True)"
   ]
  },
  {
   "cell_type": "code",
   "execution_count": 41,
   "id": "boring-pursuit",
   "metadata": {},
   "outputs": [],
   "source": [
    "comp_less.loc[:, 'raceomb'].fillna(comp_less.raceomb_002, inplace=True)"
   ]
  },
  {
   "cell_type": "code",
   "execution_count": 42,
   "id": "technological-conservation",
   "metadata": {},
   "outputs": [],
   "source": [
    "# Race categories: combine Multiracial, more than 1 race - other, and more than 1 race - black / white when doing race"
   ]
  },
  {
   "cell_type": "code",
   "execution_count": 43,
   "id": "religious-commodity",
   "metadata": {},
   "outputs": [],
   "source": [
    "comp_less.replace(to_replace=['More than one race - Other', 'More than one race - Black/White'], value='Multiracial', inplace=True)"
   ]
  },
  {
   "cell_type": "code",
   "execution_count": 44,
   "id": "macro-comparative",
   "metadata": {},
   "outputs": [],
   "source": [
    "comp_less.replace(to_replace='Other or unknown', value='Other or Unknown', inplace=True)"
   ]
  },
  {
   "cell_type": "code",
   "execution_count": 45,
   "id": "enormous-postcard",
   "metadata": {},
   "outputs": [
    {
     "data": {
      "text/plain": [
       "White                                        903387\n",
       "Black or African American                     80273\n",
       "Multiracial                                   63933\n",
       "East Asian                                    59950\n",
       "Other or Unknown                              59667\n",
       "South Asian                                   52831\n",
       "American Indian/Alaska Native                  7240\n",
       "Native Hawaiian or other Pacific Islander      6809\n",
       "Name: raceomb, dtype: int64"
      ]
     },
     "execution_count": 45,
     "metadata": {},
     "output_type": "execute_result"
    }
   ],
   "source": [
    "comp_less.raceomb.value_counts()"
   ]
  },
  {
   "cell_type": "code",
   "execution_count": 46,
   "id": "latin-gibson",
   "metadata": {},
   "outputs": [],
   "source": [
    "comp_less.drop(columns=['raceomb_002'], axis=1, inplace=True)"
   ]
  },
  {
   "cell_type": "code",
   "execution_count": 47,
   "id": "constant-california",
   "metadata": {},
   "outputs": [
    {
     "name": "stdout",
     "output_type": "stream",
     "text": [
      "<class 'pandas.core.frame.DataFrame'>\n",
      "Int64Index: 1468590 entries, 0 to 92163\n",
      "Data columns (total 35 columns):\n",
      " #   Column          Non-Null Count    Dtype  \n",
      "---  ------          --------------    -----  \n",
      " 0   session_id      1468590 non-null  float64\n",
      " 1   session_status  1468590 non-null  object \n",
      " 2   study_name      1468590 non-null  object \n",
      " 3   date            1468590 non-null  float64\n",
      " 4   month           1468590 non-null  float64\n",
      " 5   day             1468590 non-null  float64\n",
      " 6   year            1468590 non-null  float64\n",
      " 7   hour            1468590 non-null  float64\n",
      " 8   weekday         1468590 non-null  float64\n",
      " 9   birthyear       759174 non-null   float64\n",
      " 10  birthSex        793937 non-null   float64\n",
      " 11  genderIdentity  879322 non-null   object \n",
      " 12  ethnicityomb    1238710 non-null  object \n",
      " 13  Implicit        1442690 non-null  float64\n",
      " 14  Mn_RT_all_3467  1442692 non-null  float64\n",
      " 15  PCT_error_3467  1442692 non-null  float64\n",
      " 16  anninc          1178019 non-null  object \n",
      " 17  percentanninc   1224256 non-null  object \n",
      " 18  countrycit_num  770465 non-null   object \n",
      " 19  countryres_num  769638 non-null   object \n",
      " 20  edu_13          1344320 non-null  object \n",
      " 21  politicalid_7   1268500 non-null  object \n",
      " 22  STATE           1468590 non-null  object \n",
      " 23  MSANo           1468590 non-null  object \n",
      " 24  CountyNo        1468590 non-null  object \n",
      " 25  MSAName         1468590 non-null  object \n",
      " 26  religionid      1147464 non-null  object \n",
      " 27  age             571626 non-null   float64\n",
      " 28  num             722413 non-null   object \n",
      " 29  sex             722413 non-null   object \n",
      " 30  countrycit      722413 non-null   object \n",
      " 31  countryres      722413 non-null   object \n",
      " 32  raceomb         1234090 non-null  object \n",
      " 33  occupation      689513 non-null   object \n",
      " 34  genderidentity  291238 non-null   object \n",
      "dtypes: float64(13), object(22)\n",
      "memory usage: 403.4+ MB\n"
     ]
    }
   ],
   "source": [
    "comp_less.info()"
   ]
  },
  {
   "cell_type": "code",
   "execution_count": 55,
   "id": "suburban-alcohol",
   "metadata": {},
   "outputs": [],
   "source": [
    "comp_less.loc[:, 'genderIdentity'].fillna(comp_less.genderidentity, inplace=True)"
   ]
  },
  {
   "cell_type": "code",
   "execution_count": 56,
   "id": "rapid-message",
   "metadata": {},
   "outputs": [],
   "source": [
    "comp_less.drop(columns='genderidentity', axis=1, inplace=True)"
   ]
  },
  {
   "cell_type": "code",
   "execution_count": 57,
   "id": "provincial-finder",
   "metadata": {},
   "outputs": [],
   "source": [
    "comp_less.to_csv(\"total_gender_career_BP.csv\")\n"
   ]
  },
  {
   "cell_type": "code",
   "execution_count": 65,
   "id": "loose-postcard",
   "metadata": {},
   "outputs": [],
   "source": [
    "comp_less[['year']] = comp_less[['year']].astype(int)"
   ]
  },
  {
   "cell_type": "code",
   "execution_count": 153,
   "id": "smooth-center",
   "metadata": {},
   "outputs": [
    {
     "data": {
      "text/plain": [
       "2.0    535738\n",
       "1.0    258199\n",
       "Name: birthSex, dtype: int64"
      ]
     },
     "execution_count": 153,
     "metadata": {},
     "output_type": "execute_result"
    }
   ],
   "source": [
    "comp_less.birthSex.value_counts()"
   ]
  },
  {
   "cell_type": "code",
   "execution_count": 158,
   "id": "connected-corps",
   "metadata": {},
   "outputs": [],
   "source": [
    "comp_less['birthSex'] = comp_less['birthSex'].replace({1.0: 'Male', 2.0: 'Female'})"
   ]
  },
  {
   "cell_type": "code",
   "execution_count": 74,
   "id": "forced-bahamas",
   "metadata": {},
   "outputs": [
    {
     "data": {
      "text/plain": [
       "0        [1]\n",
       "2        [2]\n",
       "4        [1]\n",
       "9        [1]\n",
       "11       [1]\n",
       "        ... \n",
       "92154    NaN\n",
       "92156    NaN\n",
       "92158    NaN\n",
       "92159    NaN\n",
       "92163    NaN\n",
       "Name: genderIdentity, Length: 1468590, dtype: object"
      ]
     },
     "execution_count": 74,
     "metadata": {},
     "output_type": "execute_result"
    }
   ],
   "source": [
    "comp_less['genderIdentity'].replace(to_replace='.', value='NaN')"
   ]
  },
  {
   "cell_type": "code",
   "execution_count": 166,
   "id": "dimensional-waste",
   "metadata": {},
   "outputs": [
    {
     "data": {
      "text/plain": [
       "''"
      ]
     },
     "execution_count": 166,
     "metadata": {},
     "output_type": "execute_result"
    },
    {
     "data": {
      "image/png": "[encoded data removed]",
      "text/plain": [
       "<Figure size 1008x504 with 1 Axes>"
      ]
     },
     "metadata": {},
     "output_type": "display_data"
    }
   ],
   "source": [
    "plt.figure(figsize=(14,7))\n",
    "\n",
    "ax = sns.countplot(x= 'year', data=comp_less, palette=sns.color_palette('flare'))\n",
    "ax.set_title('Completed Tests by Year',fontsize=20)\n",
    "ax.set_ylabel('Count of Completed Tests', fontsize=16)\n",
    "ax.set_xlabel('Year', fontsize=16)\n",
    "plt.setp(ax.get_xticklabels(), fontsize=14)\n",
    "plt.setp(ax.get_yticklabels(), fontsize=14)\n",
    "\n",
    ";"
   ]
  },
  {
   "cell_type": "code",
   "execution_count": 164,
   "id": "rising-growing",
   "metadata": {},
   "outputs": [
    {
     "data": {
      "text/plain": [
       "''"
      ]
     },
     "execution_count": 164,
     "metadata": {},
     "output_type": "execute_result"
    },
    {
     "data": {
      "image/png": "[encoded data removed]",
      "text/plain": [
       "<Figure size 1008x504 with 1 Axes>"
      ]
     },
     "metadata": {},
     "output_type": "display_data"
    }
   ],
   "source": [
    "plt.figure(figsize=(14,7))\n",
    "\n",
    "ax = sns.barplot(x= 'year', y=\"Implicit\", data=comp_less, palette=sns.color_palette('flare'))\n",
    "ax.set_title('Implicit Results by Year',fontsize=20)\n",
    "ax.set_ylabel('Count of Completed Tests', fontsize=16)\n",
    "ax.set_xlabel('Year', fontsize=16)\n",
    "plt.setp(ax.get_xticklabels(), fontsize=14)\n",
    "plt.setp(ax.get_yticklabels(), fontsize=14)\n",
    "\n",
    ";"
   ]
  },
  {
   "cell_type": "code",
   "execution_count": 172,
   "id": "charming-conditioning",
   "metadata": {},
   "outputs": [
    {
     "data": {
      "text/plain": [
       "US     461666\n",
       ".       72302\n",
       "1       61231\n",
       "UK      18441\n",
       "CA      17469\n",
       "        ...  \n",
       "12          1\n",
       "189         1\n",
       "BV          1\n",
       "161         1\n",
       "9           1\n",
       "Name: countryres, Length: 400, dtype: int64"
      ]
     },
     "execution_count": 172,
     "metadata": {},
     "output_type": "execute_result"
    }
   ],
   "source": [
    "comp_less.countryres.value_counts()"
   ]
  },
  {
   "cell_type": "code",
   "execution_count": 173,
   "id": "continuous-hostel",
   "metadata": {},
   "outputs": [
    {
     "data": {
      "text/plain": [
       "''"
      ]
     },
     "execution_count": 173,
     "metadata": {},
     "output_type": "execute_result"
    },
    {
     "data": {
      "image/png": "[encoded data removed]",
      "text/plain": [
       "<Figure size 1008x504 with 1 Axes>"
      ]
     },
     "metadata": {},
     "output_type": "display_data"
    }
   ],
   "source": [
    "plt.figure(figsize=(14,7))\n",
    "\n",
    "ax = sns.barplot(x= 'raceomb', y= 'Implicit', data=comp_less, palette=sns.color_palette('flare'))\n",
    "ax.set_title('Implicit Results by Race',fontsize=20)\n",
    "ax.set_ylabel('Implicit Associations', fontsize=16)\n",
    "ax.set_xlabel('Race', fontsize=16)\n",
    "plt.setp(ax.get_xticklabels(), fontsize=14)\n",
    "plt.setp(ax.get_yticklabels(), fontsize=14)\n",
    "\n",
    ";"
   ]
  },
  {
   "cell_type": "code",
   "execution_count": 177,
   "id": "cheap-chamber",
   "metadata": {},
   "outputs": [],
   "source": [
    "comp_less.loc[:, 'countryres'].fillna(comp_less.countryres_num, inplace=True)"
   ]
  },
  {
   "cell_type": "code",
   "execution_count": 178,
   "id": "chicken-feelings",
   "metadata": {},
   "outputs": [
    {
     "data": {
      "text/plain": [
       "U.S.A.            529269\n",
       "US                461666\n",
       ".                  72302\n",
       "1                  61231\n",
       "United Kingdom     35662\n",
       "                   ...  \n",
       "87                     1\n",
       "128                    1\n",
       "YT                     1\n",
       "144                    1\n",
       "NF                     1\n",
       "Name: countryres, Length: 629, dtype: int64"
      ]
     },
     "execution_count": 178,
     "metadata": {},
     "output_type": "execute_result"
    }
   ],
   "source": [
    "comp_less.countryres.value_counts()"
   ]
  },
  {
   "cell_type": "code",
   "execution_count": 182,
   "id": "starting-hindu",
   "metadata": {},
   "outputs": [],
   "source": [
    "comp_less.replace(to_replace='U.S.A.', value='US', inplace=True)"
   ]
  },
  {
   "cell_type": "code",
   "execution_count": 183,
   "id": "respective-mexican",
   "metadata": {},
   "outputs": [
    {
     "data": {
      "text/plain": [
       "US                990935\n",
       ".                  72302\n",
       "1                  61231\n",
       "United Kingdom     35662\n",
       "Canada             19798\n",
       "                   ...  \n",
       "131                    1\n",
       "128                    1\n",
       "79                     1\n",
       "123                    1\n",
       "TK                     1\n",
       "Name: countryres, Length: 628, dtype: int64"
      ]
     },
     "execution_count": 183,
     "metadata": {},
     "output_type": "execute_result"
    }
   ],
   "source": [
    "comp_less.countryres.value_counts()"
   ]
  },
  {
   "cell_type": "code",
   "execution_count": 184,
   "id": "prompt-thailand",
   "metadata": {},
   "outputs": [],
   "source": [
    "comp_us = comp_less[comp_less.countryres == 'US']"
   ]
  },
  {
   "cell_type": "code",
   "execution_count": 274,
   "id": "boolean-suite",
   "metadata": {},
   "outputs": [
    {
     "name": "stdout",
     "output_type": "stream",
     "text": [
      "<class 'pandas.core.frame.DataFrame'>\n",
      "Int64Index: 990935 entries, 4 to 92158\n",
      "Data columns (total 31 columns):\n",
      " #   Column          Non-Null Count   Dtype  \n",
      "---  ------          --------------   -----  \n",
      " 0   session_id      990935 non-null  float64\n",
      " 1   session_status  990935 non-null  object \n",
      " 2   study_name      990935 non-null  object \n",
      " 3   date            990935 non-null  float64\n",
      " 4   month           990935 non-null  float64\n",
      " 5   day             990935 non-null  float64\n",
      " 6   year            990935 non-null  int64  \n",
      " 7   hour            990935 non-null  float64\n",
      " 8   weekday         990935 non-null  float64\n",
      " 9   birthSex        989646 non-null  object \n",
      " 10  genderIdentity  562092 non-null  object \n",
      " 11  ethnicityomb    906465 non-null  object \n",
      " 12  Implicit        977401 non-null  float64\n",
      " 13  Mn_RT_all_3467  977401 non-null  float64\n",
      " 14  PCT_error_3467  977401 non-null  float64\n",
      " 15  anninc          857126 non-null  object \n",
      " 16  percentanninc   879091 non-null  object \n",
      " 17  edu_13          980639 non-null  object \n",
      " 18  politicalid_7   923613 non-null  object \n",
      " 19  STATE           990935 non-null  object \n",
      " 20  MSANo           990935 non-null  object \n",
      " 21  CountyNo        990935 non-null  object \n",
      " 22  MSAName         990935 non-null  object \n",
      " 23  religionid      839458 non-null  object \n",
      " 24  age             971397 non-null  float64\n",
      " 25  num             461666 non-null  object \n",
      " 26  countrycit      461666 non-null  object \n",
      " 27  countryres      990935 non-null  object \n",
      " 28  raceomb         901674 non-null  object \n",
      " 29  occupation      439220 non-null  object \n",
      " 30  age2            513042 non-null  float64\n",
      "dtypes: float64(11), int64(1), object(19)\n",
      "memory usage: 258.1+ MB\n"
     ]
    }
   ],
   "source": [
    "comp_us.info()"
   ]
  },
  {
   "cell_type": "code",
   "execution_count": 186,
   "id": "palestinian-expansion",
   "metadata": {},
   "outputs": [
    {
     "name": "stderr",
     "output_type": "stream",
     "text": [
      "/opt/anaconda3/lib/python3.7/site-packages/pandas/core/frame.py:4315: SettingWithCopyWarning: \n",
      "A value is trying to be set on a copy of a slice from a DataFrame\n",
      "\n",
      "See the caveats in the documentation: https://pandas.pydata.org/pandas-docs/stable/user_guide/indexing.html#returning-a-view-versus-a-copy\n",
      "  errors=errors,\n"
     ]
    }
   ],
   "source": [
    "comp_us.drop(['countryres_num', 'countrycit_num'], inplace=True, axis=1)\n"
   ]
  },
  {
   "cell_type": "code",
   "execution_count": 187,
   "id": "downtown-practice",
   "metadata": {},
   "outputs": [],
   "source": [
    "comp_us.to_csv(\"comp_us.csv\")"
   ]
  },
  {
   "cell_type": "code",
   "execution_count": 188,
   "id": "incorporated-player",
   "metadata": {},
   "outputs": [
    {
     "name": "stderr",
     "output_type": "stream",
     "text": [
      "/opt/anaconda3/lib/python3.7/site-packages/ipykernel_launcher.py:1: SettingWithCopyWarning: \n",
      "A value is trying to be set on a copy of a slice from a DataFrame.\n",
      "Try using .loc[row_indexer,col_indexer] = value instead\n",
      "\n",
      "See the caveats in the documentation: https://pandas.pydata.org/pandas-docs/stable/user_guide/indexing.html#returning-a-view-versus-a-copy\n",
      "  \"\"\"Entry point for launching an IPython kernel.\n"
     ]
    }
   ],
   "source": [
    "comp_us['age2'] = comp_us['year'] - comp_us['birthyear']"
   ]
  },
  {
   "cell_type": "code",
   "execution_count": 190,
   "id": "military-fitness",
   "metadata": {},
   "outputs": [
    {
     "name": "stderr",
     "output_type": "stream",
     "text": [
      "/opt/anaconda3/lib/python3.7/site-packages/pandas/core/series.py:4469: SettingWithCopyWarning: \n",
      "A value is trying to be set on a copy of a slice from a DataFrame\n",
      "\n",
      "See the caveats in the documentation: https://pandas.pydata.org/pandas-docs/stable/user_guide/indexing.html#returning-a-view-versus-a-copy\n",
      "  downcast=downcast,\n"
     ]
    }
   ],
   "source": [
    "comp_us.loc[:, 'age'].fillna(comp_us.age2, inplace=True)"
   ]
  },
  {
   "cell_type": "code",
   "execution_count": 192,
   "id": "twenty-orbit",
   "metadata": {},
   "outputs": [
    {
     "data": {
      "text/plain": [
       "971397"
      ]
     },
     "execution_count": 192,
     "metadata": {},
     "output_type": "execute_result"
    }
   ],
   "source": [
    "comp_us.age.count()"
   ]
  },
  {
   "cell_type": "code",
   "execution_count": 194,
   "id": "greater-armenia",
   "metadata": {},
   "outputs": [],
   "source": [
    "comp_us.to_csv(\"comp_us.csv\")"
   ]
  },
  {
   "cell_type": "code",
   "execution_count": 195,
   "id": "olympic-fetish",
   "metadata": {},
   "outputs": [],
   "source": [
    "comp_us.drop('birthyear', axis=1, inplace=True)"
   ]
  },
  {
   "cell_type": "code",
   "execution_count": 199,
   "id": "flush-rapid",
   "metadata": {},
   "outputs": [
    {
     "name": "stdout",
     "output_type": "stream",
     "text": [
      "<class 'pandas.core.frame.DataFrame'>\n",
      "Int64Index: 990935 entries, 4 to 92158\n",
      "Data columns (total 32 columns):\n",
      " #   Column          Non-Null Count   Dtype  \n",
      "---  ------          --------------   -----  \n",
      " 0   session_id      990935 non-null  float64\n",
      " 1   session_status  990935 non-null  object \n",
      " 2   study_name      990935 non-null  object \n",
      " 3   date            990935 non-null  float64\n",
      " 4   month           990935 non-null  float64\n",
      " 5   day             990935 non-null  float64\n",
      " 6   year            990935 non-null  int64  \n",
      " 7   hour            990935 non-null  float64\n",
      " 8   weekday         990935 non-null  float64\n",
      " 9   birthSex        989646 non-null  object \n",
      " 10  genderIdentity  562092 non-null  object \n",
      " 11  ethnicityomb    906465 non-null  object \n",
      " 12  Implicit        977401 non-null  float64\n",
      " 13  Mn_RT_all_3467  977401 non-null  float64\n",
      " 14  PCT_error_3467  977401 non-null  float64\n",
      " 15  anninc          857126 non-null  object \n",
      " 16  percentanninc   879091 non-null  object \n",
      " 17  edu_13          980639 non-null  object \n",
      " 18  politicalid_7   923613 non-null  object \n",
      " 19  STATE           990935 non-null  object \n",
      " 20  MSANo           990935 non-null  object \n",
      " 21  CountyNo        990935 non-null  object \n",
      " 22  MSAName         990935 non-null  object \n",
      " 23  religionid      839458 non-null  object \n",
      " 24  age             971397 non-null  float64\n",
      " 25  num             461666 non-null  object \n",
      " 26  sex             461666 non-null  object \n",
      " 27  countrycit      461666 non-null  object \n",
      " 28  countryres      990935 non-null  object \n",
      " 29  raceomb         901674 non-null  object \n",
      " 30  occupation      439220 non-null  object \n",
      " 31  age2            513042 non-null  float64\n",
      "dtypes: float64(11), int64(1), object(20)\n",
      "memory usage: 249.5+ MB\n"
     ]
    }
   ],
   "source": [
    "comp_us.info()"
   ]
  },
  {
   "cell_type": "code",
   "execution_count": 198,
   "id": "valid-material",
   "metadata": {},
   "outputs": [],
   "source": [
    "comp_us.loc[:, 'birthSex'].fillna(comp_us.sex, inplace=True)"
   ]
  },
  {
   "cell_type": "code",
   "execution_count": 200,
   "id": "plain-gross",
   "metadata": {},
   "outputs": [],
   "source": [
    "comp_us.drop('sex', axis=1, inplace=True)"
   ]
  },
  {
   "cell_type": "code",
   "execution_count": 201,
   "id": "disciplinary-display",
   "metadata": {},
   "outputs": [
    {
     "data": {
      "text/plain": [
       "Female    697903\n",
       "Male      288628\n",
       ".           2733\n",
       "             382\n",
       "Name: birthSex, dtype: int64"
      ]
     },
     "execution_count": 201,
     "metadata": {},
     "output_type": "execute_result"
    }
   ],
   "source": [
    "comp_us.birthSex.value_counts()"
   ]
  },
  {
   "cell_type": "code",
   "execution_count": 202,
   "id": "answering-centre",
   "metadata": {},
   "outputs": [],
   "source": [
    "comp_us.to_csv(\"comp_us.csv\")"
   ]
  },
  {
   "cell_type": "code",
   "execution_count": 216,
   "id": "compact-cigarette",
   "metadata": {},
   "outputs": [
    {
     "data": {
      "text/plain": [
       "''"
      ]
     },
     "execution_count": 216,
     "metadata": {},
     "output_type": "execute_result"
    },
    {
     "data": {
      "image/png": "[encoded data removed]",
      "text/plain": [
       "<Figure size 1008x504 with 1 Axes>"
      ]
     },
     "metadata": {},
     "output_type": "display_data"
    }
   ],
   "source": [
    "plt.figure(figsize=(14,7))\n",
    "\n",
    "ax = sns.barplot(x= 'birthSex', y= 'Implicit', data=comp_us, palette=sns.color_palette('flare'))\n",
    "ax.set_title('Implicit Results by Gender',fontsize=20)\n",
    "ax.set_ylabel('Implicit Associations', fontsize=16)\n",
    "ax.set_xlabel('Gender', fontsize=16)\n",
    "plt.setp(ax.get_xticklabels(), fontsize=14)\n",
    "plt.setp(ax.get_yticklabels(), fontsize=14)\n",
    "\n",
    ";"
   ]
  },
  {
   "cell_type": "code",
   "execution_count": 211,
   "id": "complicated-command",
   "metadata": {},
   "outputs": [
    {
     "name": "stderr",
     "output_type": "stream",
     "text": [
      "/opt/anaconda3/lib/python3.7/site-packages/pandas/core/series.py:4515: SettingWithCopyWarning: \n",
      "A value is trying to be set on a copy of a slice from a DataFrame\n",
      "\n",
      "See the caveats in the documentation: https://pandas.pydata.org/pandas-docs/stable/user_guide/indexing.html#returning-a-view-versus-a-copy\n",
      "  method=method,\n"
     ]
    }
   ],
   "source": [
    "comp_us.birthSex.replace(to_replace=['.', ''], value='Not Reported', inplace=True)"
   ]
  },
  {
   "cell_type": "code",
   "execution_count": 231,
   "id": "prime-american",
   "metadata": {},
   "outputs": [],
   "source": [
    "yeardf = comp_us[['year', 'birthSex', 'Implicit']].copy()\n",
    "yeardf = yeardf[yeardf.birthSex != 'Not Reported']"
   ]
  },
  {
   "cell_type": "code",
   "execution_count": 234,
   "id": "opening-armor",
   "metadata": {},
   "outputs": [
    {
     "data": {
      "text/plain": [
       "''"
      ]
     },
     "execution_count": 234,
     "metadata": {},
     "output_type": "execute_result"
    },
    {
     "data": {
      "image/png": "[encoded data removed]",
      "text/plain": [
       "<Figure size 1008x504 with 1 Axes>"
      ]
     },
     "metadata": {},
     "output_type": "display_data"
    }
   ],
   "source": [
    "plt.figure(figsize=(14,7))\n",
    "\n",
    "ax = sns.lineplot(x= 'year', y= 'Implicit', data=yeardf, palette='summer')\n",
    "ax.set_title('Implicit Association Change over Time',fontsize=20)\n",
    "ax.set_ylabel('Implicit Associations: \\n Higher = Quicker to Associate Male with Career', fontsize=16)\n",
    "ax.set_xlabel('Gender', fontsize=16)\n",
    "plt.setp(ax.get_xticklabels(), fontsize=14)\n",
    "plt.setp(ax.get_yticklabels(), fontsize=14)\n",
    "\n",
    ";"
   ]
  },
  {
   "cell_type": "code",
   "execution_count": 235,
   "id": "complete-romantic",
   "metadata": {},
   "outputs": [
    {
     "data": {
      "text/plain": [
       "Female    697903\n",
       "Male      288628\n",
       "Name: birthSex, dtype: int64"
      ]
     },
     "execution_count": 235,
     "metadata": {},
     "output_type": "execute_result"
    }
   ],
   "source": [
    "yeardf.birthSex.value_counts()"
   ]
  },
  {
   "cell_type": "code",
   "execution_count": 238,
   "id": "applied-carter",
   "metadata": {},
   "outputs": [
    {
     "data": {
      "text/plain": [
       "''"
      ]
     },
     "execution_count": 238,
     "metadata": {},
     "output_type": "execute_result"
    },
    {
     "data": {
      "image/png": "[encoded data removed]",
      "text/plain": [
       "<Figure size 1008x504 with 1 Axes>"
      ]
     },
     "metadata": {},
     "output_type": "display_data"
    }
   ],
   "source": [
    "plt.figure(figsize=(14,7))\n",
    "\n",
    "ax = sns.countplot(x= 'year', data=yeardf, palette='summer')\n",
    "ax.set_title('Number of Tests Taken Over Time',fontsize=20)\n",
    "ax.set_ylabel('Count of Relevant Completed Tests', fontsize=16)\n",
    "ax.set_xlabel('Year', fontsize=16)\n",
    "plt.setp(ax.get_xticklabels(), fontsize=14)\n",
    "plt.setp(ax.get_yticklabels(), fontsize=14)\n",
    "\n",
    ";\n",
    "\n",
    "#Take gradient off, should all be same color "
   ]
  },
  {
   "cell_type": "code",
   "execution_count": 239,
   "id": "loaded-track",
   "metadata": {},
   "outputs": [
    {
     "data": {
      "text/plain": [
       "year        987820\n",
       "birthSex    986531\n",
       "Implicit    974390\n",
       "dtype: int64"
      ]
     },
     "execution_count": 239,
     "metadata": {},
     "output_type": "execute_result"
    }
   ],
   "source": [
    "yeardf.count()"
   ]
  },
  {
   "cell_type": "code",
   "execution_count": 240,
   "id": "neither-routine",
   "metadata": {},
   "outputs": [
    {
     "data": {
      "text/plain": [
       "2020    171665\n",
       "2019    126410\n",
       "2018    121042\n",
       "2017    110152\n",
       "2015     71769\n",
       "2014     46502\n",
       "2013     44266\n",
       "2012     42451\n",
       "2009     36541\n",
       "2011     35368\n",
       "2010     34328\n",
       "2016     32767\n",
       "2006     31640\n",
       "2008     30687\n",
       "2007     29967\n",
       "2005     22265\n",
       "Name: year, dtype: int64"
      ]
     },
     "execution_count": 240,
     "metadata": {},
     "output_type": "execute_result"
    }
   ],
   "source": [
    "yeardf.year.value_counts()"
   ]
  },
  {
   "cell_type": "code",
   "execution_count": 275,
   "id": "substantial-seattle",
   "metadata": {},
   "outputs": [
    {
     "data": {
      "text/plain": [
       "2020    17.323538\n",
       "2019    12.756639\n",
       "2018    12.214928\n",
       "2017    11.115966\n",
       "2015     7.303506\n",
       "2014     4.762169\n",
       "2013     4.510891\n",
       "2012     4.304218\n",
       "2009     3.705288\n",
       "2011     3.584493\n",
       "2010     3.480148\n",
       "2016     3.312326\n",
       "2006     3.211714\n",
       "2008     3.114634\n",
       "2007     3.034407\n",
       "2005     2.265133\n",
       "Name: year, dtype: float64"
      ]
     },
     "execution_count": 275,
     "metadata": {},
     "output_type": "execute_result"
    }
   ],
   "source": [
    "comp_us['year'].value_counts(normalize=True) * 100\n"
   ]
  },
  {
   "cell_type": "code",
   "execution_count": 276,
   "id": "steady-attitude",
   "metadata": {},
   "outputs": [
    {
     "data": {
      "text/plain": [
       "2020.0    14.900170\n",
       "2019.0    11.434229\n",
       "2018.0    10.970295\n",
       "2017.0    10.598028\n",
       "2016.0     9.838362\n",
       "2015.0     8.259240\n",
       "2014.0     4.649848\n",
       "2013.0     4.349812\n",
       "2012.0     4.150653\n",
       "2009.0     3.443025\n",
       "2011.0     3.347623\n",
       "2010.0     3.211865\n",
       "2007.0     3.054203\n",
       "2006.0     2.963866\n",
       "2008.0     2.917241\n",
       "2005.0     1.911540\n",
       "Name: year, dtype: float64"
      ]
     },
     "execution_count": 276,
     "metadata": {},
     "output_type": "execute_result"
    }
   ],
   "source": [
    "all_data['year'].value_counts(normalize=True) * 100"
   ]
  },
  {
   "cell_type": "code",
   "execution_count": 252,
   "id": "printable-ladder",
   "metadata": {},
   "outputs": [
    {
     "data": {
      "text/plain": [
       "session_id        990935\n",
       "session_status    990935\n",
       "study_name        990935\n",
       "date              990935\n",
       "month             990935\n",
       "day               990935\n",
       "year              990935\n",
       "hour              990935\n",
       "weekday           990935\n",
       "birthSex          989646\n",
       "genderIdentity    562092\n",
       "ethnicityomb      906465\n",
       "Implicit          977401\n",
       "Mn_RT_all_3467    977401\n",
       "PCT_error_3467    977401\n",
       "anninc            857126\n",
       "percentanninc     879091\n",
       "edu_13            980639\n",
       "politicalid_7     923613\n",
       "STATE             990935\n",
       "MSANo             990935\n",
       "CountyNo          990935\n",
       "MSAName           990935\n",
       "religionid        839458\n",
       "age               971397\n",
       "num               461666\n",
       "countrycit        461666\n",
       "countryres        990935\n",
       "raceomb           901674\n",
       "occupation        439220\n",
       "age2              513042\n",
       "dtype: int64"
      ]
     },
     "execution_count": 252,
     "metadata": {},
     "output_type": "execute_result"
    }
   ],
   "source": [
    "comp_us.count()"
   ]
  },
  {
   "cell_type": "code",
   "execution_count": 265,
   "id": "adult-rehabilitation",
   "metadata": {},
   "outputs": [
    {
     "data": {
      "image/png": "[encoded data removed]",
      "text/plain": [
       "<Figure size 432x288 with 1 Axes>"
      ]
     },
     "metadata": {},
     "output_type": "display_data"
    }
   ],
   "source": [
    "fig, ax = plt.subplots()\n",
    "\n",
    "# vis1 = sns.histplot(comp_us[\"politicalid_7\"], ax= ax[0][0])\n",
    "# vis2 = sns.histplot(comp_us[\"Implicit\"], bins=10)\n",
    "vis3 = sns.histplot(comp_us[\"age2\"], bins=10)\n",
    "# "
   ]
  },
  {
   "cell_type": "code",
   "execution_count": 277,
   "id": "established-aurora",
   "metadata": {},
   "outputs": [
    {
     "data": {
      "image/png": "[encoded data removed]",
      "text/plain": [
       "<Figure size 432x288 with 1 Axes>"
      ]
     },
     "metadata": {},
     "output_type": "display_data"
    }
   ],
   "source": [
    "vis4 = sns.histplot(comp_us[\"year\"], bins=16);"
   ]
  },
  {
   "cell_type": "markdown",
   "id": "outstanding-british",
   "metadata": {},
   "source": [
    "What happened to odd years? And 2016!! "
   ]
  },
  {
   "cell_type": "code",
   "execution_count": 272,
   "id": "satisfactory-terrorism",
   "metadata": {},
   "outputs": [
    {
     "data": {
      "image/png": "[encoded data removed]",
      "text/plain": [
       "<Figure size 432x288 with 1 Axes>"
      ]
     },
     "metadata": {},
     "output_type": "display_data"
    }
   ],
   "source": [
    "vis4 = sns.histplot(all_data[\"year\"], bins=16);"
   ]
  },
  {
   "cell_type": "code",
   "execution_count": null,
   "id": "flying-rochester",
   "metadata": {},
   "outputs": [],
   "source": []
  }
 ],
 "metadata": {
  "kernelspec": {
   "display_name": "Python 3",
   "language": "python",
   "name": "python3"
  },
  "language_info": {
   "codemirror_mode": {
    "name": "ipython",
    "version": 3
   },
   "file_extension": ".py",
   "mimetype": "text/x-python",
   "name": "python",
   "nbconvert_exporter": "python",
   "pygments_lexer": "ipython3",
   "version": "3.7.10"
  }
 },
 "nbformat": 4,
 "nbformat_minor": 5
}
