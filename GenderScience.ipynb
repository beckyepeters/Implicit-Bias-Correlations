{
 "cells": [
  {
   "cell_type": "markdown",
   "id": "pursuant-nerve",
   "metadata": {},
   "source": [
    "### Gender-Science EDA"
   ]
  },
  {
   "cell_type": "code",
   "execution_count": 24,
   "id": "alpha-despite",
   "metadata": {},
   "outputs": [],
   "source": [
    "import pandas as pd \n",
    "import numpy as np\n",
    "import matplotlib.pyplot as plt\n",
    "import pyreadstat\n",
    "import glob\n",
    "import seaborn as sns\n",
    "\n",
    "sns.set(style=\"white\")"
   ]
  },
  {
   "cell_type": "code",
   "execution_count": 25,
   "id": "documentary-habitat",
   "metadata": {},
   "outputs": [],
   "source": [
    "all_dfs = []\n",
    "savs = glob.glob(\"data/gender_science_data/Gender*.sav\")\n",
    "\n",
    "for s in savs:\n",
    "    data = pd.read_spss(s)\n",
    "    df_lst.append(data)\n",
    "\n",
    "all_dfs = pd.concat(df_lst)    "
   ]
  },
  {
   "cell_type": "code",
   "execution_count": 26,
   "id": "twelve-hughes",
   "metadata": {},
   "outputs": [
    {
     "data": {
      "text/plain": [
       "session_id        6019587\n",
       "session_status    6019587\n",
       "study_name        6019587\n",
       "date              6019575\n",
       "month             6019575\n",
       "                   ...   \n",
       "sius012             51942\n",
       "birthsex           560895\n",
       "genderidentity    1167552\n",
       "occuself          1167552\n",
       "occuselfdetail    1167552\n",
       "Length: 189, dtype: int64"
      ]
     },
     "execution_count": 26,
     "metadata": {},
     "output_type": "execute_result"
    }
   ],
   "source": [
    "all_dfs.count()"
   ]
  },
  {
   "cell_type": "markdown",
   "id": "sealed-register",
   "metadata": {},
   "source": [
    "### Removing Irrelevant / Incomplete Data"
   ]
  },
  {
   "cell_type": "code",
   "execution_count": 27,
   "id": "miniature-dallas",
   "metadata": {},
   "outputs": [
    {
     "data": {
      "text/plain": [
       "['session_id',\n",
       " 'session_status',\n",
       " 'study_name',\n",
       " 'date',\n",
       " 'month',\n",
       " 'day',\n",
       " 'year',\n",
       " 'hour',\n",
       " 'weekday',\n",
       " 'birthmonth',\n",
       " 'birthyear',\n",
       " 'num_002',\n",
       " 'birthSex',\n",
       " 'raceomb_002',\n",
       " 'raceombmulti',\n",
       " 'ethnicityomb',\n",
       " 'edu',\n",
       " 'edu_14',\n",
       " 'D_biep.Male_Science_all',\n",
       " 'Mn_RT_all_3467',\n",
       " 'N_3467',\n",
       " 'PCT_error_3467',\n",
       " 'Order',\n",
       " 'Side_Science_34',\n",
       " 'Side_Male_34',\n",
       " 'pct_300',\n",
       " 'pct_400',\n",
       " 'pct_2K',\n",
       " 'pct_3K',\n",
       " 'pct_4K',\n",
       " 'arts',\n",
       " 'science',\n",
       " 'larts_7',\n",
       " 'lscience_7',\n",
       " 'factorability',\n",
       " 'factordiscrimination',\n",
       " 'factorencouragement',\n",
       " 'factorfamily',\n",
       " 'factorhighpower',\n",
       " 'factorinterest',\n",
       " 'genderIdentity',\n",
       " 'goal1',\n",
       " 'goal2',\n",
       " 'ran9thboys',\n",
       " 'ran9thgirls',\n",
       " 'D_biep.Male_Science_36',\n",
       " 'D_biep.Male_Science_47',\n",
       " 'Mn_RT_all_3',\n",
       " 'Mn_RT_all_4',\n",
       " 'Mn_RT_all_6',\n",
       " 'Mn_RT_all_7',\n",
       " 'SD_all_3',\n",
       " 'SD_all_4',\n",
       " 'SD_all_6',\n",
       " 'SD_all_7',\n",
       " 'N_3',\n",
       " 'N_4',\n",
       " 'N_5',\n",
       " 'N_6',\n",
       " 'N_7',\n",
       " 'Mn_RT_correct_3',\n",
       " 'Mn_RT_correct_4',\n",
       " 'Mn_RT_correct_6',\n",
       " 'Mn_RT_correct_7',\n",
       " 'SD_correct_3',\n",
       " 'SD_correct_4',\n",
       " 'SD_correct_6',\n",
       " 'SD_correct_7',\n",
       " 'N_ERROR_3',\n",
       " 'N_ERROR_4',\n",
       " 'N_ERROR_6',\n",
       " 'N_ERROR_7',\n",
       " 'countrycit_num',\n",
       " 'countryres_num',\n",
       " 'occuSelf',\n",
       " 'occuSelfDetail',\n",
       " 'politicalid_7',\n",
       " 'STATE',\n",
       " 'MSANo',\n",
       " 'CountyNo',\n",
       " 'MSAName',\n",
       " 'religion2014',\n",
       " 'religionid',\n",
       " 'iatevaluations001',\n",
       " 'iatevaluations002',\n",
       " 'iatevaluations003',\n",
       " 'broughtwebsite',\n",
       " 'user_id',\n",
       " 'previous_session_id',\n",
       " 'previous_session_schema',\n",
       " 'age',\n",
       " 'num',\n",
       " 'previat',\n",
       " 'sex',\n",
       " 'raceomb',\n",
       " 'major',\n",
       " 'major2',\n",
       " 'likeart',\n",
       " 'likesci',\n",
       " 'larts',\n",
       " 'lscience',\n",
       " 'genident',\n",
       " 'goal3',\n",
       " 'rancollmen',\n",
       " 'rancollwomen',\n",
       " 'scompactc',\n",
       " 'scompsatm',\n",
       " 'scompsatv',\n",
       " 'countrycit',\n",
       " 'countryres',\n",
       " 'occupation',\n",
       " 'politicalid',\n",
       " 'religion',\n",
       " 'q2a',\n",
       " 'q2b',\n",
       " 'q2c',\n",
       " 'q2d',\n",
       " 'q3a',\n",
       " 'q3b',\n",
       " 'q3c',\n",
       " 'q4',\n",
       " 'larts_5',\n",
       " 'lscience_5',\n",
       " 'politicalid_6',\n",
       " 'ethnic',\n",
       " 'ats3',\n",
       " 'ats7',\n",
       " 'ats8',\n",
       " 'ats10',\n",
       " 'extravert',\n",
       " 'posaffect',\n",
       " 'edu_13',\n",
       " 'edu_9',\n",
       " 'att',\n",
       " 'country',\n",
       " 'deathanxiety001',\n",
       " 'deathanxiety002',\n",
       " 'deathanxiety003',\n",
       " 'deathanxiety004',\n",
       " 'deathanxiety005',\n",
       " 'deathanxiety006',\n",
       " 'deathanxiety007',\n",
       " 'deathanxiety008',\n",
       " 'deathanxiety009',\n",
       " 'deathanxiety010',\n",
       " 'deathanxiety011',\n",
       " 'deathanxiety012',\n",
       " 'deathanxiety013',\n",
       " 'deathanxiety014',\n",
       " 'deathanxiety015',\n",
       " 'fearcovid001',\n",
       " 'fearcovid002',\n",
       " 'fearcovid003',\n",
       " 'fearcovid004',\n",
       " 'fearcovid005',\n",
       " 'fearcovid006',\n",
       " 'fearcovid007',\n",
       " 'fearcovid008',\n",
       " 'pvd001',\n",
       " 'pvd002',\n",
       " 'pvd003',\n",
       " 'pvd004',\n",
       " 'pvd005',\n",
       " 'pvd006',\n",
       " 'pvd007',\n",
       " 'pvd008',\n",
       " 'pvd009',\n",
       " 'pvd010',\n",
       " 'pvd011',\n",
       " 'pvd012',\n",
       " 'pvd013',\n",
       " 'pvd014',\n",
       " 'pvd015',\n",
       " 'sius001',\n",
       " 'sius002',\n",
       " 'sius003',\n",
       " 'sius004',\n",
       " 'sius005',\n",
       " 'sius006',\n",
       " 'sius007',\n",
       " 'sius008',\n",
       " 'sius009',\n",
       " 'sius010',\n",
       " 'sius011',\n",
       " 'sius012',\n",
       " 'birthsex',\n",
       " 'genderidentity',\n",
       " 'occuself',\n",
       " 'occuselfdetail']"
      ]
     },
     "execution_count": 27,
     "metadata": {},
     "output_type": "execute_result"
    }
   ],
   "source": [
    "list(all_dfs.columns)"
   ]
  },
  {
   "cell_type": "code",
   "execution_count": 28,
   "id": "expected-shower",
   "metadata": {},
   "outputs": [],
   "source": [
    "cols_to_drop = ['birthmonth', \n",
    "           'Mn_RT_all_3467',\n",
    "           'N_3467', \n",
    "           'Order', \n",
    "          'Side_Science_34', 'Side_Male_34', 'factorability',\n",
    " 'factordiscrimination',\n",
    " 'factorencouragement',\n",
    " 'factorfamily',\n",
    " 'factorhighpower',\n",
    " 'factorinterest', 'goal1',\n",
    " 'goal2',\n",
    " 'ran9thboys',\n",
    " 'ran9thgirls',\n",
    " 'D_biep.Male_Science_36',\n",
    " 'D_biep.Male_Science_47',\n",
    " 'Mn_RT_all_3',\n",
    " 'Mn_RT_all_4',\n",
    " 'Mn_RT_all_6',\n",
    " 'Mn_RT_all_7',\n",
    " 'SD_all_3',\n",
    " 'SD_all_4',\n",
    " 'SD_all_6',\n",
    " 'SD_all_7',\n",
    " 'N_3',\n",
    " 'N_4',\n",
    " 'N_5',\n",
    " 'N_6',\n",
    " 'N_7',\n",
    " 'Mn_RT_correct_3',\n",
    " 'Mn_RT_correct_4',\n",
    " 'Mn_RT_correct_6',\n",
    " 'Mn_RT_correct_7',\n",
    " 'SD_correct_3',\n",
    " 'SD_correct_4',\n",
    " 'SD_correct_6',\n",
    " 'SD_correct_7',\n",
    " 'N_ERROR_3',\n",
    " 'N_ERROR_4',\n",
    " 'N_ERROR_6',\n",
    " 'N_ERROR_7', 'MSANo', 'MSAName', 'iatevaluations001',\n",
    " 'iatevaluations002',\n",
    " 'iatevaluations003',\n",
    " 'broughtwebsite',\n",
    " 'user_id',\n",
    " 'previous_session_id',\n",
    " 'previous_session_schema', 'previat', 'major',\n",
    " 'major2',\n",
    " 'likeart',\n",
    " 'likesci',\n",
    " 'larts',\n",
    " 'lscience',\n",
    " 'genident',\n",
    " 'goal3',\n",
    " 'rancollmen',\n",
    " 'rancollwomen',\n",
    " 'scompactc',\n",
    " 'scompsatm',\n",
    " 'scompsatv', 'q2a',\n",
    " 'q2b',\n",
    " 'q2c',\n",
    " 'q2d',\n",
    " 'q3a',\n",
    " 'q3b',\n",
    " 'q3c',\n",
    " 'q4',\n",
    " 'larts_5',\n",
    " 'lscience_5', 'ats3',\n",
    " 'ats7',\n",
    " 'ats8',\n",
    " 'ats10',\n",
    " 'extravert',\n",
    " 'posaffect', 'att', 'deathanxiety001',\n",
    " 'deathanxiety002',\n",
    " 'deathanxiety003',\n",
    " 'deathanxiety004',\n",
    " 'deathanxiety005',\n",
    " 'deathanxiety006',\n",
    " 'deathanxiety007',\n",
    " 'deathanxiety008',\n",
    " 'deathanxiety009',\n",
    " 'deathanxiety010',\n",
    " 'deathanxiety011',\n",
    " 'deathanxiety012',\n",
    " 'deathanxiety013',\n",
    " 'deathanxiety014',\n",
    " 'deathanxiety015',\n",
    " 'fearcovid001',\n",
    " 'fearcovid002',\n",
    " 'fearcovid003',\n",
    " 'fearcovid004',\n",
    " 'fearcovid005',\n",
    " 'fearcovid006',\n",
    " 'fearcovid007',\n",
    " 'fearcovid008',\n",
    " 'pvd001',\n",
    " 'pvd002',\n",
    " 'pvd003',\n",
    " 'pvd004',\n",
    " 'pvd005',\n",
    " 'pvd006',\n",
    " 'pvd007',\n",
    " 'pvd008',\n",
    " 'pvd009',\n",
    " 'pvd010',\n",
    " 'pvd011',\n",
    " 'pvd012',\n",
    " 'pvd013',\n",
    " 'pvd014',\n",
    " 'pvd015',\n",
    " 'sius001',\n",
    " 'sius002',\n",
    " 'sius003',\n",
    " 'sius004',\n",
    " 'sius005',\n",
    " 'sius006',\n",
    " 'sius007',\n",
    " 'sius008',\n",
    " 'sius009',\n",
    " 'sius010',\n",
    " 'sius011',\n",
    " 'sius012',]"
   ]
  },
  {
   "cell_type": "code",
   "execution_count": 29,
   "id": "metropolitan-expansion",
   "metadata": {},
   "outputs": [
    {
     "data": {
      "text/plain": [
       "6019587"
      ]
     },
     "execution_count": 29,
     "metadata": {},
     "output_type": "execute_result"
    }
   ],
   "source": [
    "all_dfs.session_status.count()"
   ]
  },
  {
   "cell_type": "code",
   "execution_count": 41,
   "id": "hairy-monitor",
   "metadata": {},
   "outputs": [
    {
     "data": {
      "text/plain": [
       "2020.0    817038\n",
       "2017.0    598881\n",
       "2018.0    586263\n",
       "2016.0    568671\n",
       "2015.0    524364\n",
       "2005.0    350274\n",
       "2014.0    271380\n",
       "2012.0    257331\n",
       "2013.0    243363\n",
       "2006.0    227319\n",
       "2009.0    222861\n",
       "2007.0    211215\n",
       "2019.0    208419\n",
       "2011.0    204048\n",
       "2004.0    200301\n",
       "2010.0    195594\n",
       "2008.0    185628\n",
       "2003.0    146625\n",
       "Name: year, dtype: int64"
      ]
     },
     "execution_count": 41,
     "metadata": {},
     "output_type": "execute_result"
    }
   ],
   "source": [
    "all_dfs.year.value_counts()"
   ]
  },
  {
   "cell_type": "code",
   "execution_count": 40,
   "id": "fifty-receiver",
   "metadata": {},
   "outputs": [
    {
     "data": {
      "image/png": "[encoded data removed]",
      "text/plain": [
       "<Figure size 1080x360 with 1 Axes>"
      ]
     },
     "metadata": {},
     "output_type": "display_data"
    }
   ],
   "source": [
    "fig, ax = plt.subplots(figsize=(15, 5))\n",
    "sns.histplot(all_dfs.year, binwidth=.95)\n",
    "show_values_on_bars(ax)\n",
    "ax.set(title='All Tests by Year', ylabel='Count of All Tests', xlabel='Year')\n",
    "plt.show();"
   ]
  },
  {
   "cell_type": "code",
   "execution_count": 30,
   "id": "persistent-complexity",
   "metadata": {},
   "outputs": [],
   "source": [
    "pass1 = all_dfs.copy()"
   ]
  },
  {
   "cell_type": "code",
   "execution_count": 31,
   "id": "varied-transaction",
   "metadata": {},
   "outputs": [],
   "source": [
    "pass1.drop(columns=cols_to_drop, inplace=True)"
   ]
  },
  {
   "cell_type": "markdown",
   "id": "congressional-daughter",
   "metadata": {},
   "source": [
    "Only the completed tests: "
   ]
  },
  {
   "cell_type": "code",
   "execution_count": 32,
   "id": "protecting-declaration",
   "metadata": {},
   "outputs": [],
   "source": [
    "pass2 = pass1[pass1['session_status']=='C']"
   ]
  },
  {
   "cell_type": "code",
   "execution_count": 33,
   "id": "stunning-moldova",
   "metadata": {},
   "outputs": [
    {
     "data": {
      "text/plain": [
       "C    2915715\n",
       "Name: session_status, dtype: int64"
      ]
     },
     "execution_count": 33,
     "metadata": {},
     "output_type": "execute_result"
    }
   ],
   "source": [
    "pass2.session_status.value_counts()"
   ]
  },
  {
   "cell_type": "code",
   "execution_count": 35,
   "id": "illegal-imperial",
   "metadata": {},
   "outputs": [
    {
     "data": {
      "text/plain": [
       "48.43712699891205"
      ]
     },
     "execution_count": 35,
     "metadata": {},
     "output_type": "execute_result"
    }
   ],
   "source": [
    "pct = 2915715 / 6019587 * 100\n",
    "pct"
   ]
  },
  {
   "cell_type": "code",
   "execution_count": 36,
   "id": "useful-fantasy",
   "metadata": {},
   "outputs": [],
   "source": [
    "def show_values_on_bars(axs, h_v=\"v\", space=0.4):\n",
    "    def _show_on_single_plot(ax):\n",
    "        if h_v == \"v\":\n",
    "            for p in ax.patches:\n",
    "                _x = (p.get_x() + p.get_width() / 2)\n",
    "                _y = (p.get_y() + p.get_height()) + 3_000\n",
    "                value = int(p.get_height())\n",
    "                ax.text(_x, _y, value, ha=\"center\") \n",
    "        elif h_v == \"h\":\n",
    "            for p in ax.patches:\n",
    "                _x = p.get_x() + p.get_width() + float(space)\n",
    "                _y = p.get_y() + p.get_height()\n",
    "                value = int(p.get_width())\n",
    "                ax.text(_x, _y, value, ha=\"left\")\n",
    "\n",
    "    if isinstance(axs, np.ndarray):\n",
    "        for idx, ax in np.ndenumerate(axs):\n",
    "            _show_on_single_plot(ax)\n",
    "    else:\n",
    "        _show_on_single_plot(axs)"
   ]
  },
  {
   "cell_type": "code",
   "execution_count": 42,
   "id": "broad-climb",
   "metadata": {},
   "outputs": [
    {
     "data": {
      "image/png": "[encoded data removed]",
      "text/plain": [
       "<Figure size 864x360 with 1 Axes>"
      ]
     },
     "metadata": {},
     "output_type": "display_data"
    }
   ],
   "source": [
    "fig, ax = plt.subplots(figsize=(12, 5))\n",
    "sns.histplot(pass2.year, binwidth=.95)\n",
    "show_values_on_bars(ax)\n",
    "ax.set(title='Completed Tests by Year', ylabel='Count of Completed Tests', xlabel='Year')\n",
    "plt.show();"
   ]
  },
  {
   "cell_type": "markdown",
   "id": "fluid-healing",
   "metadata": {},
   "source": [
    "Fix education columns & combine"
   ]
  },
  {
   "cell_type": "code",
   "execution_count": 43,
   "id": "advisory-stress",
   "metadata": {},
   "outputs": [
    {
     "name": "stdout",
     "output_type": "stream",
     "text": [
      "<class 'pandas.core.frame.DataFrame'>\n",
      "Int64Index: 2915715 entries, 2 to 189556\n",
      "Data columns (total 56 columns):\n",
      " #   Column                   Dtype   \n",
      "---  ------                   -----   \n",
      " 0   session_id               float64 \n",
      " 1   session_status           object  \n",
      " 2   study_name               object  \n",
      " 3   date                     float64 \n",
      " 4   month                    float64 \n",
      " 5   day                      float64 \n",
      " 6   year                     float64 \n",
      " 7   hour                     float64 \n",
      " 8   weekday                  float64 \n",
      " 9   birthyear                float64 \n",
      " 10  num_002                  object  \n",
      " 11  birthSex                 float64 \n",
      " 12  raceomb_002              object  \n",
      " 13  raceombmulti             object  \n",
      " 14  ethnicityomb             object  \n",
      " 15  edu                      float64 \n",
      " 16  edu_14                   object  \n",
      " 17  D_biep.Male_Science_all  float64 \n",
      " 18  PCT_error_3467           float64 \n",
      " 19  pct_300                  float64 \n",
      " 20  pct_400                  float64 \n",
      " 21  pct_2K                   float64 \n",
      " 22  pct_3K                   float64 \n",
      " 23  pct_4K                   float64 \n",
      " 24  arts                     category\n",
      " 25  science                  category\n",
      " 26  larts_7                  object  \n",
      " 27  lscience_7               object  \n",
      " 28  genderIdentity           object  \n",
      " 29  countrycit_num           object  \n",
      " 30  countryres_num           object  \n",
      " 31  occuSelf                 object  \n",
      " 32  occuSelfDetail           object  \n",
      " 33  politicalid_7            object  \n",
      " 34  STATE                    object  \n",
      " 35  CountyNo                 object  \n",
      " 36  religion2014             object  \n",
      " 37  religionid               object  \n",
      " 38  age                      float64 \n",
      " 39  num                      object  \n",
      " 40  sex                      object  \n",
      " 41  raceomb                  object  \n",
      " 42  countrycit               object  \n",
      " 43  countryres               object  \n",
      " 44  occupation               object  \n",
      " 45  politicalid              float64 \n",
      " 46  religion                 object  \n",
      " 47  politicalid_6            object  \n",
      " 48  ethnic                   object  \n",
      " 49  edu_13                   object  \n",
      " 50  edu_9                    object  \n",
      " 51  country                  object  \n",
      " 52  birthsex                 float64 \n",
      " 53  genderidentity           object  \n",
      " 54  occuself                 object  \n",
      " 55  occuselfdetail           object  \n",
      "dtypes: category(2), float64(20), object(34)\n",
      "memory usage: 1.2+ GB\n"
     ]
    }
   ],
   "source": [
    "pass2.info()"
   ]
  },
  {
   "cell_type": "code",
   "execution_count": 44,
   "id": "every-daily",
   "metadata": {},
   "outputs": [],
   "source": [
    "edu_df = pass2[['edu', 'edu_14', 'edu_13', 'edu_9']]"
   ]
  },
  {
   "cell_type": "code",
   "execution_count": 54,
   "id": "nonprofit-chase",
   "metadata": {},
   "outputs": [],
   "source": [
    "edu_dict = {1.0: 'elementary', 2.0: 'junior high', 3.0: 'some high school', 4.0: 'high school graduate', 5.0: 'some college', 6.0: 'associates degree', 7.0: 'bachelors degree', 8.0: 'some graduate school or beyond'}"
   ]
  },
  {
   "cell_type": "code",
   "execution_count": 87,
   "id": "premier-combining",
   "metadata": {},
   "outputs": [
    {
     "name": "stderr",
     "output_type": "stream",
     "text": [
      "/opt/anaconda3/lib/python3.7/site-packages/pandas/core/series.py:4515: SettingWithCopyWarning: \n",
      "A value is trying to be set on a copy of a slice from a DataFrame\n",
      "\n",
      "See the caveats in the documentation: https://pandas.pydata.org/pandas-docs/stable/user_guide/indexing.html#returning-a-view-versus-a-copy\n",
      "  method=method,\n"
     ]
    }
   ],
   "source": [
    "pass2.edu.replace(to_replace=edu_dict, inplace=True)"
   ]
  },
  {
   "cell_type": "code",
   "execution_count": 88,
   "id": "favorite-scout",
   "metadata": {},
   "outputs": [
    {
     "data": {
      "text/plain": [
       "some college                      730029\n",
       "bachelors degree                  470623\n",
       "9.0                               288764\n",
       "some high school                  239570\n",
       "high school graduate              206530\n",
       "some graduate school or beyond    175274\n",
       "associates degree                 174770\n",
       "12.0                              146605\n",
       "14.0                               44442\n",
       "11.0                               31359\n",
       "junior high                        28616\n",
       "10.0                               26469\n",
       "13.0                               18802\n",
       "elementary                          5572\n",
       "-999.0                                 6\n",
       "Name: edu, dtype: int64"
      ]
     },
     "execution_count": 88,
     "metadata": {},
     "output_type": "execute_result"
    }
   ],
   "source": [
    "pass2.edu.value_counts()"
   ]
  },
  {
   "cell_type": "code",
   "execution_count": 89,
   "id": "material-entrepreneur",
   "metadata": {},
   "outputs": [],
   "source": [
    "pass2.edu.replace(to_replace=[9.0, 10.0, 11.0, 12.0, 13.0, 14.0], value='some graduate school or beyond', inplace=True)"
   ]
  },
  {
   "cell_type": "code",
   "execution_count": 90,
   "id": "animated-bridge",
   "metadata": {},
   "outputs": [
    {
     "data": {
      "text/plain": [
       "some graduate school or beyond    731715\n",
       "some college                      730029\n",
       "bachelors degree                  470623\n",
       "some high school                  239570\n",
       "high school graduate              206530\n",
       "associates degree                 174770\n",
       "junior high                        28616\n",
       "elementary                          5572\n",
       "-999.0                                 6\n",
       "Name: edu, dtype: int64"
      ]
     },
     "execution_count": 90,
     "metadata": {},
     "output_type": "execute_result"
    }
   ],
   "source": [
    "pass2.edu.value_counts()"
   ]
  },
  {
   "cell_type": "code",
   "execution_count": 91,
   "id": "typical-monster",
   "metadata": {},
   "outputs": [],
   "source": [
    "pass2.edu_14.replace(to_replace=[\"master's degree\", \"some graduate school\", \"Ph.D.\", \"M.B.A.\", \"M.D.\", \"J.D.\", \"other advanced degree\"], value='some graduate school or beyond', inplace=True)"
   ]
  },
  {
   "cell_type": "code",
   "execution_count": 92,
   "id": "brazilian-tribute",
   "metadata": {},
   "outputs": [],
   "source": [
    "pass2.edu_14.replace(to_replace=[\"associate's degree\"], value='associates degree', inplace=True)"
   ]
  },
  {
   "cell_type": "code",
   "execution_count": 93,
   "id": "fatty-farming",
   "metadata": {},
   "outputs": [],
   "source": [
    "pass2.edu_14.replace(to_replace=[-999.0], value='NaN', inplace=True)"
   ]
  },
  {
   "cell_type": "code",
   "execution_count": 94,
   "id": "harmful-garlic",
   "metadata": {},
   "outputs": [],
   "source": [
    "pass2.edu_13.replace(to_replace=[\"master's degree\", \"some graduate school\", \"Ph.D.\", \"M.B.A.\", \"M.D.\", \"J.D.\", \"other advanced degree\"], value='some graduate school or beyond', inplace=True)"
   ]
  },
  {
   "cell_type": "code",
   "execution_count": 95,
   "id": "phantom-brick",
   "metadata": {},
   "outputs": [],
   "source": [
    "pass2.edu_9.replace(to_replace=['?????'], value='NaN', inplace=True)"
   ]
  },
  {
   "cell_type": "code",
   "execution_count": 96,
   "id": "democratic-funds",
   "metadata": {},
   "outputs": [
    {
     "data": {
      "text/plain": [
       "some college            37098\n",
       "associate's degree      14055\n",
       "bachelor's degree        5985\n",
       "some high school         5955\n",
       "high school graduate     4512\n",
       "some graduate school     2358\n",
       "NaN                      2013\n",
       "junior high               351\n",
       "elementary school         129\n",
       "Name: edu_9, dtype: int64"
      ]
     },
     "execution_count": 96,
     "metadata": {},
     "output_type": "execute_result"
    }
   ],
   "source": [
    "pass2.edu_9.value_counts()"
   ]
  },
  {
   "cell_type": "code",
   "execution_count": 97,
   "id": "chinese-stranger",
   "metadata": {},
   "outputs": [
    {
     "name": "stderr",
     "output_type": "stream",
     "text": [
      "/opt/anaconda3/lib/python3.7/site-packages/pandas/core/series.py:4469: SettingWithCopyWarning: \n",
      "A value is trying to be set on a copy of a slice from a DataFrame\n",
      "\n",
      "See the caveats in the documentation: https://pandas.pydata.org/pandas-docs/stable/user_guide/indexing.html#returning-a-view-versus-a-copy\n",
      "  downcast=downcast,\n"
     ]
    }
   ],
   "source": [
    "pass2.loc[:, 'edu'].fillna(pass2.edu_14, inplace=True)"
   ]
  },
  {
   "cell_type": "code",
   "execution_count": 98,
   "id": "extraordinary-rapid",
   "metadata": {},
   "outputs": [],
   "source": [
    "pass2.loc[:, 'edu'].fillna(pass2.edu_13, inplace=True)"
   ]
  },
  {
   "cell_type": "code",
   "execution_count": 99,
   "id": "ordinary-lounge",
   "metadata": {},
   "outputs": [],
   "source": [
    "pass2.loc[:, 'edu'].fillna(pass2.edu_9, inplace=True)"
   ]
  },
  {
   "cell_type": "code",
   "execution_count": 100,
   "id": "lined-photograph",
   "metadata": {},
   "outputs": [
    {
     "name": "stderr",
     "output_type": "stream",
     "text": [
      "/opt/anaconda3/lib/python3.7/site-packages/pandas/core/frame.py:4315: SettingWithCopyWarning: \n",
      "A value is trying to be set on a copy of a slice from a DataFrame\n",
      "\n",
      "See the caveats in the documentation: https://pandas.pydata.org/pandas-docs/stable/user_guide/indexing.html#returning-a-view-versus-a-copy\n",
      "  errors=errors,\n"
     ]
    }
   ],
   "source": [
    "pass2.drop(columns=['edu_14', 'edu_13', 'edu_9'], inplace=True)"
   ]
  },
  {
   "cell_type": "code",
   "execution_count": 103,
   "id": "convertible-sigma",
   "metadata": {},
   "outputs": [
    {
     "data": {
      "text/plain": [
       "some graduate school or beyond    731715\n",
       "some college                      730029\n",
       "bachelors degree                  470623\n",
       "some high school                  239570\n",
       "high school graduate              206530\n",
       "associates degree                 174770\n",
       "junior high                        28616\n",
       "elementary                          5572\n",
       "-999.0                                 6\n",
       "Name: edu_bp, dtype: int64"
      ]
     },
     "execution_count": 103,
     "metadata": {},
     "output_type": "execute_result"
    }
   ],
   "source": [
    "pass2.edu_bp.value_counts()"
   ]
  },
  {
   "cell_type": "code",
   "execution_count": 81,
   "id": "recreational-marketing",
   "metadata": {},
   "outputs": [
    {
     "data": {
      "text/plain": [
       "some graduate school or beyond    731715\n",
       "some college                      730029\n",
       "bachelors degree                  470623\n",
       "some high school                  239570\n",
       "high school graduate              206530\n",
       "associates degree                 174770\n",
       "junior high                        28616\n",
       "elementary                          5572\n",
       "-999.0                                 6\n",
       "Name: edu, dtype: int64"
      ]
     },
     "execution_count": 81,
     "metadata": {},
     "output_type": "execute_result"
    }
   ],
   "source": [
    "edu_df.edu.value_counts()"
   ]
  },
  {
   "cell_type": "code",
   "execution_count": 105,
   "id": "satisfied-place",
   "metadata": {},
   "outputs": [],
   "source": [
    "pass2.edu_bp.replace(to_replace=[-999.0], value='NaN', inplace=True)"
   ]
  },
  {
   "cell_type": "code",
   "execution_count": 110,
   "id": "similar-marathon",
   "metadata": {},
   "outputs": [
    {
     "name": "stderr",
     "output_type": "stream",
     "text": [
      "/opt/anaconda3/lib/python3.7/site-packages/pandas/core/frame.py:4315: SettingWithCopyWarning: \n",
      "A value is trying to be set on a copy of a slice from a DataFrame\n",
      "\n",
      "See the caveats in the documentation: https://pandas.pydata.org/pandas-docs/stable/user_guide/indexing.html#returning-a-view-versus-a-copy\n",
      "  errors=errors,\n"
     ]
    }
   ],
   "source": [
    "pass2.drop(columns='edu_bp', inplace=True)"
   ]
  },
  {
   "cell_type": "code",
   "execution_count": 111,
   "id": "positive-quantity",
   "metadata": {},
   "outputs": [
    {
     "name": "stdout",
     "output_type": "stream",
     "text": [
      "<class 'pandas.core.frame.DataFrame'>\n",
      "Int64Index: 2915715 entries, 2 to 189556\n",
      "Data columns (total 53 columns):\n",
      " #   Column                   Dtype   \n",
      "---  ------                   -----   \n",
      " 0   session_id               float64 \n",
      " 1   session_status           object  \n",
      " 2   study_name               object  \n",
      " 3   date                     float64 \n",
      " 4   month                    float64 \n",
      " 5   day                      float64 \n",
      " 6   year                     float64 \n",
      " 7   hour                     float64 \n",
      " 8   weekday                  float64 \n",
      " 9   birthyear                float64 \n",
      " 10  num_002                  object  \n",
      " 11  birthSex                 float64 \n",
      " 12  raceomb_002              object  \n",
      " 13  raceombmulti             object  \n",
      " 14  ethnicityomb             object  \n",
      " 15  edu                      object  \n",
      " 16  D_biep.Male_Science_all  float64 \n",
      " 17  PCT_error_3467           float64 \n",
      " 18  pct_300                  float64 \n",
      " 19  pct_400                  float64 \n",
      " 20  pct_2K                   float64 \n",
      " 21  pct_3K                   float64 \n",
      " 22  pct_4K                   float64 \n",
      " 23  arts                     category\n",
      " 24  science                  category\n",
      " 25  larts_7                  object  \n",
      " 26  lscience_7               object  \n",
      " 27  genderIdentity           object  \n",
      " 28  countrycit_num           object  \n",
      " 29  countryres_num           object  \n",
      " 30  occuSelf                 object  \n",
      " 31  occuSelfDetail           object  \n",
      " 32  politicalid_7            object  \n",
      " 33  STATE                    object  \n",
      " 34  CountyNo                 object  \n",
      " 35  religion2014             object  \n",
      " 36  religionid               object  \n",
      " 37  age                      float64 \n",
      " 38  num                      object  \n",
      " 39  sex                      object  \n",
      " 40  raceomb                  object  \n",
      " 41  countrycit               object  \n",
      " 42  countryres               object  \n",
      " 43  occupation               object  \n",
      " 44  politicalid              float64 \n",
      " 45  religion                 object  \n",
      " 46  politicalid_6            object  \n",
      " 47  ethnic                   object  \n",
      " 48  country                  object  \n",
      " 49  birthsex                 float64 \n",
      " 50  genderidentity           object  \n",
      " 51  occuself                 object  \n",
      " 52  occuselfdetail           object  \n",
      "dtypes: category(2), float64(19), object(32)\n",
      "memory usage: 1.1+ GB\n"
     ]
    }
   ],
   "source": [
    "pass2.info()"
   ]
  },
  {
   "cell_type": "markdown",
   "id": "optical-selling",
   "metadata": {},
   "source": [
    "Errors Next"
   ]
  },
  {
   "cell_type": "markdown",
   "id": "suffering-therapy",
   "metadata": {},
   "source": [
    "IF  (pct_300>10 OR PCT_error_3467>30) Error='Yes'."
   ]
  },
  {
   "cell_type": "code",
   "execution_count": 113,
   "id": "coupled-agenda",
   "metadata": {},
   "outputs": [],
   "source": [
    "err_df = pass2.copy()"
   ]
  },
  {
   "cell_type": "code",
   "execution_count": 115,
   "id": "successful-mileage",
   "metadata": {},
   "outputs": [],
   "source": [
    "err_df.drop(err_df.index[err_df['pct_300'] >10], inplace=True)"
   ]
  },
  {
   "cell_type": "code",
   "execution_count": 116,
   "id": "vietnamese-gasoline",
   "metadata": {},
   "outputs": [],
   "source": [
    "err_df.drop(err_df.index[err_df['PCT_error_3467'] >30], inplace=True)"
   ]
  },
  {
   "cell_type": "code",
   "execution_count": 118,
   "id": "responsible-crowd",
   "metadata": {},
   "outputs": [
    {
     "data": {
      "image/png": "[encoded data removed]",
      "text/plain": [
       "<Figure size 864x360 with 1 Axes>"
      ]
     },
     "metadata": {},
     "output_type": "display_data"
    }
   ],
   "source": [
    "fig, ax = plt.subplots(figsize=(12, 5))\n",
    "sns.histplot(err_df.year, binwidth=.95)\n",
    "show_values_on_bars(ax)\n",
    "ax.set(title='Completed Tests by Year', ylabel='Count of Completed Tests', xlabel='Year')\n",
    "plt.show();"
   ]
  },
  {
   "cell_type": "code",
   "execution_count": 119,
   "id": "touched-watch",
   "metadata": {},
   "outputs": [],
   "source": [
    "err_df.rename(columns={'D_biep.Male_Career_all': 'Implicit'}, inplace=True)"
   ]
  },
  {
   "cell_type": "code",
   "execution_count": 121,
   "id": "vocal-credit",
   "metadata": {},
   "outputs": [],
   "source": [
    "err_df.drop(columns=['PCT_error_3467', 'pct_300', 'pct_400', 'pct_2K', 'pct_3K', 'pct_4K'], inplace=True, axis=1)"
   ]
  },
  {
   "cell_type": "code",
   "execution_count": 122,
   "id": "prostate-reynolds",
   "metadata": {},
   "outputs": [
    {
     "name": "stdout",
     "output_type": "stream",
     "text": [
      "<class 'pandas.core.frame.DataFrame'>\n",
      "Int64Index: 2475503 entries, 2 to 189556\n",
      "Data columns (total 47 columns):\n",
      " #   Column                   Dtype   \n",
      "---  ------                   -----   \n",
      " 0   session_id               float64 \n",
      " 1   session_status           object  \n",
      " 2   study_name               object  \n",
      " 3   date                     float64 \n",
      " 4   month                    float64 \n",
      " 5   day                      float64 \n",
      " 6   year                     float64 \n",
      " 7   hour                     float64 \n",
      " 8   weekday                  float64 \n",
      " 9   birthyear                float64 \n",
      " 10  num_002                  object  \n",
      " 11  birthSex                 float64 \n",
      " 12  raceomb_002              object  \n",
      " 13  raceombmulti             object  \n",
      " 14  ethnicityomb             object  \n",
      " 15  edu                      object  \n",
      " 16  D_biep.Male_Science_all  float64 \n",
      " 17  arts                     category\n",
      " 18  science                  category\n",
      " 19  larts_7                  object  \n",
      " 20  lscience_7               object  \n",
      " 21  genderIdentity           object  \n",
      " 22  countrycit_num           object  \n",
      " 23  countryres_num           object  \n",
      " 24  occuSelf                 object  \n",
      " 25  occuSelfDetail           object  \n",
      " 26  politicalid_7            object  \n",
      " 27  STATE                    object  \n",
      " 28  CountyNo                 object  \n",
      " 29  religion2014             object  \n",
      " 30  religionid               object  \n",
      " 31  age                      float64 \n",
      " 32  num                      object  \n",
      " 33  sex                      object  \n",
      " 34  raceomb                  object  \n",
      " 35  countrycit               object  \n",
      " 36  countryres               object  \n",
      " 37  occupation               object  \n",
      " 38  politicalid              float64 \n",
      " 39  religion                 object  \n",
      " 40  politicalid_6            object  \n",
      " 41  ethnic                   object  \n",
      " 42  country                  object  \n",
      " 43  birthsex                 float64 \n",
      " 44  genderidentity           object  \n",
      " 45  occuself                 object  \n",
      " 46  occuselfdetail           object  \n",
      "dtypes: category(2), float64(13), object(32)\n",
      "memory usage: 873.5+ MB\n"
     ]
    }
   ],
   "source": [
    "err_df.info()"
   ]
  },
  {
   "cell_type": "code",
   "execution_count": 123,
   "id": "italian-minimum",
   "metadata": {},
   "outputs": [],
   "source": [
    "err_df.drop(columns=['num', 'num_002'], inplace=True, axis=1)"
   ]
  },
  {
   "cell_type": "markdown",
   "id": "domestic-walter",
   "metadata": {},
   "source": [
    "#### Occupation Fixes"
   ]
  },
  {
   "cell_type": "code",
   "execution_count": 124,
   "id": "rental-attack",
   "metadata": {},
   "outputs": [],
   "source": [
    "occu_df = err_df.copy()"
   ]
  },
  {
   "cell_type": "code",
   "execution_count": 133,
   "id": "controlled-jonathan",
   "metadata": {},
   "outputs": [],
   "source": [
    "occu_df[['occu_bp', 'occu_detail_bp']] = occu_df.occupation.str.split(pat=' - ', expand=True)"
   ]
  },
  {
   "cell_type": "code",
   "execution_count": 135,
   "id": "informed-expert",
   "metadata": {},
   "outputs": [],
   "source": [
    "occu_df[['occu_bp', 'occu_detail_bp', 'occuSelf', 'occuSelfDetail', 'occuself', 'occuselfdetail']].to_csv('data/gsoccu.csv')"
   ]
  },
  {
   "cell_type": "code",
   "execution_count": null,
   "id": "nuclear-buddy",
   "metadata": {},
   "outputs": [],
   "source": [
    "# Fill na and fill up occu_bp "
   ]
  }
 ],
 "metadata": {
  "kernelspec": {
   "display_name": "Python 3",
   "language": "python",
   "name": "python3"
  },
  "language_info": {
   "codemirror_mode": {
    "name": "ipython",
    "version": 3
   },
   "file_extension": ".py",
   "mimetype": "text/x-python",
   "name": "python",
   "nbconvert_exporter": "python",
   "pygments_lexer": "ipython3",
   "version": "3.7.10"
  }
 },
 "nbformat": 4,
 "nbformat_minor": 5
}
