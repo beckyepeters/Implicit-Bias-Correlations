{
 "cells": [
  {
   "cell_type": "markdown",
   "id": "8724ef0d",
   "metadata": {},
   "source": [
    "Gender-Career IAT US ONLY"
   ]
  },
  {
   "cell_type": "code",
   "execution_count": 59,
   "id": "34d4d45a",
   "metadata": {},
   "outputs": [],
   "source": [
    "import pandas as pd \n",
    "import numpy as np\n",
    "import matplotlib.pyplot as plt\n",
    "import pyreadstat\n",
    "import glob\n",
    "import seaborn as sns\n",
    "import sklearn\n",
    "from sklearn.linear_model import LinearRegression\n",
    "from sklearn import datasets\n",
    "\n",
    "sns.set_theme(context='notebook', style='white', palette='deep', font='sans-serif', font_scale=1, color_codes=True, rc=None)\n"
   ]
  },
  {
   "cell_type": "code",
   "execution_count": null,
   "id": "827cbb01",
   "metadata": {},
   "outputs": [],
   "source": []
  },
  {
   "cell_type": "code",
   "execution_count": 2,
   "id": "bc7e1bfe",
   "metadata": {},
   "outputs": [
    {
     "name": "stderr",
     "output_type": "stream",
     "text": [
      "/opt/anaconda3/lib/python3.7/site-packages/IPython/core/interactiveshell.py:3166: DtypeWarning: Columns (20) have mixed types.Specify dtype option on import or set low_memory=False.\n",
      "  interactivity=interactivity, compiler=compiler, result=result)\n"
     ]
    }
   ],
   "source": [
    "usadf = pd.read_csv('data/fin_1.csv')"
   ]
  },
  {
   "cell_type": "code",
   "execution_count": 3,
   "id": "f3079b4d",
   "metadata": {},
   "outputs": [
    {
     "data": {
      "text/html": [
       "<div>\n",
       "<style scoped>\n",
       "    .dataframe tbody tr th:only-of-type {\n",
       "        vertical-align: middle;\n",
       "    }\n",
       "\n",
       "    .dataframe tbody tr th {\n",
       "        vertical-align: top;\n",
       "    }\n",
       "\n",
       "    .dataframe thead th {\n",
       "        text-align: right;\n",
       "    }\n",
       "</style>\n",
       "<table border=\"1\" class=\"dataframe\">\n",
       "  <thead>\n",
       "    <tr style=\"text-align: right;\">\n",
       "      <th></th>\n",
       "      <th>Unnamed: 0</th>\n",
       "      <th>session_id</th>\n",
       "      <th>month</th>\n",
       "      <th>year</th>\n",
       "      <th>hour</th>\n",
       "      <th>Implicit Measure</th>\n",
       "      <th>assocareer</th>\n",
       "      <th>assofamily</th>\n",
       "      <th>impcareer</th>\n",
       "      <th>impfamily</th>\n",
       "      <th>...</th>\n",
       "      <th>havechildren</th>\n",
       "      <th>raceomb</th>\n",
       "      <th>occu_bp</th>\n",
       "      <th>assocareer_int</th>\n",
       "      <th>religionid_int</th>\n",
       "      <th>edu_int</th>\n",
       "      <th>impfamily_int</th>\n",
       "      <th>impcareer_int</th>\n",
       "      <th>assofamily_int</th>\n",
       "      <th>political_int</th>\n",
       "    </tr>\n",
       "  </thead>\n",
       "  <tbody>\n",
       "    <tr>\n",
       "      <th>0</th>\n",
       "      <td>0</td>\n",
       "      <td>2.631936e+09</td>\n",
       "      <td>1.0</td>\n",
       "      <td>2018</td>\n",
       "      <td>0.0</td>\n",
       "      <td>-0.121946</td>\n",
       "      <td>Neither male nor female</td>\n",
       "      <td>Neither male nor female</td>\n",
       "      <td>Somewhat important</td>\n",
       "      <td>Very important</td>\n",
       "      <td>...</td>\n",
       "      <td>NaN</td>\n",
       "      <td>Not Reported</td>\n",
       "      <td>NaN</td>\n",
       "      <td>4.0</td>\n",
       "      <td>1.0</td>\n",
       "      <td>NaN</td>\n",
       "      <td>4.0</td>\n",
       "      <td>3.0</td>\n",
       "      <td>4.0</td>\n",
       "      <td>3.0</td>\n",
       "    </tr>\n",
       "    <tr>\n",
       "      <th>1</th>\n",
       "      <td>2</td>\n",
       "      <td>2.631936e+09</td>\n",
       "      <td>1.0</td>\n",
       "      <td>2018</td>\n",
       "      <td>1.0</td>\n",
       "      <td>0.632007</td>\n",
       "      <td>Neither male nor female</td>\n",
       "      <td>Neither male nor female</td>\n",
       "      <td>Very important</td>\n",
       "      <td>Extremely important</td>\n",
       "      <td>...</td>\n",
       "      <td>NaN</td>\n",
       "      <td>Not Reported</td>\n",
       "      <td>NaN</td>\n",
       "      <td>4.0</td>\n",
       "      <td>4.0</td>\n",
       "      <td>NaN</td>\n",
       "      <td>5.0</td>\n",
       "      <td>4.0</td>\n",
       "      <td>4.0</td>\n",
       "      <td>NaN</td>\n",
       "    </tr>\n",
       "    <tr>\n",
       "      <th>2</th>\n",
       "      <td>4</td>\n",
       "      <td>2.631936e+09</td>\n",
       "      <td>1.0</td>\n",
       "      <td>2018</td>\n",
       "      <td>1.0</td>\n",
       "      <td>0.181949</td>\n",
       "      <td>Strongly female</td>\n",
       "      <td>Strongly female</td>\n",
       "      <td>Extremely important</td>\n",
       "      <td>Extremely important</td>\n",
       "      <td>...</td>\n",
       "      <td>NaN</td>\n",
       "      <td>White</td>\n",
       "      <td>Food service</td>\n",
       "      <td>1.0</td>\n",
       "      <td>1.0</td>\n",
       "      <td>5.0</td>\n",
       "      <td>5.0</td>\n",
       "      <td>5.0</td>\n",
       "      <td>1.0</td>\n",
       "      <td>3.0</td>\n",
       "    </tr>\n",
       "    <tr>\n",
       "      <th>3</th>\n",
       "      <td>9</td>\n",
       "      <td>2.631936e+09</td>\n",
       "      <td>1.0</td>\n",
       "      <td>2018</td>\n",
       "      <td>3.0</td>\n",
       "      <td>0.220309</td>\n",
       "      <td>Neither male nor female</td>\n",
       "      <td>Neither male nor female</td>\n",
       "      <td>Very important</td>\n",
       "      <td>Somewhat important</td>\n",
       "      <td>...</td>\n",
       "      <td>NaN</td>\n",
       "      <td>Black or African American</td>\n",
       "      <td>Unemployed</td>\n",
       "      <td>4.0</td>\n",
       "      <td>1.0</td>\n",
       "      <td>7.0</td>\n",
       "      <td>3.0</td>\n",
       "      <td>4.0</td>\n",
       "      <td>4.0</td>\n",
       "      <td>7.0</td>\n",
       "    </tr>\n",
       "    <tr>\n",
       "      <th>4</th>\n",
       "      <td>11</td>\n",
       "      <td>2.631936e+09</td>\n",
       "      <td>1.0</td>\n",
       "      <td>2018</td>\n",
       "      <td>4.0</td>\n",
       "      <td>0.463939</td>\n",
       "      <td>Strongly male</td>\n",
       "      <td>Strongly male</td>\n",
       "      <td>Very important</td>\n",
       "      <td>Slightly important</td>\n",
       "      <td>...</td>\n",
       "      <td>NaN</td>\n",
       "      <td>Not Reported</td>\n",
       "      <td>Engineers/Architects</td>\n",
       "      <td>7.0</td>\n",
       "      <td>1.0</td>\n",
       "      <td>9.0</td>\n",
       "      <td>2.0</td>\n",
       "      <td>4.0</td>\n",
       "      <td>7.0</td>\n",
       "      <td>4.0</td>\n",
       "    </tr>\n",
       "  </tbody>\n",
       "</table>\n",
       "<p>5 rows × 30 columns</p>\n",
       "</div>"
      ],
      "text/plain": [
       "   Unnamed: 0    session_id  month  year  hour  Implicit Measure  \\\n",
       "0           0  2.631936e+09    1.0  2018   0.0         -0.121946   \n",
       "1           2  2.631936e+09    1.0  2018   1.0          0.632007   \n",
       "2           4  2.631936e+09    1.0  2018   1.0          0.181949   \n",
       "3           9  2.631936e+09    1.0  2018   3.0          0.220309   \n",
       "4          11  2.631936e+09    1.0  2018   4.0          0.463939   \n",
       "\n",
       "                assocareer               assofamily            impcareer  \\\n",
       "0  Neither male nor female  Neither male nor female   Somewhat important   \n",
       "1  Neither male nor female  Neither male nor female       Very important   \n",
       "2          Strongly female          Strongly female  Extremely important   \n",
       "3  Neither male nor female  Neither male nor female       Very important   \n",
       "4            Strongly male            Strongly male       Very important   \n",
       "\n",
       "             impfamily  ... havechildren                    raceomb  \\\n",
       "0       Very important  ...          NaN               Not Reported   \n",
       "1  Extremely important  ...          NaN               Not Reported   \n",
       "2  Extremely important  ...          NaN                      White   \n",
       "3   Somewhat important  ...          NaN  Black or African American   \n",
       "4   Slightly important  ...          NaN               Not Reported   \n",
       "\n",
       "                occu_bp  assocareer_int religionid_int edu_int  impfamily_int  \\\n",
       "0                   NaN             4.0            1.0     NaN            4.0   \n",
       "1                   NaN             4.0            4.0     NaN            5.0   \n",
       "2          Food service             1.0            1.0     5.0            5.0   \n",
       "3            Unemployed             4.0            1.0     7.0            3.0   \n",
       "4  Engineers/Architects             7.0            1.0     9.0            2.0   \n",
       "\n",
       "  impcareer_int  assofamily_int political_int  \n",
       "0           3.0             4.0           3.0  \n",
       "1           4.0             4.0           NaN  \n",
       "2           5.0             1.0           3.0  \n",
       "3           4.0             4.0           7.0  \n",
       "4           4.0             7.0           4.0  \n",
       "\n",
       "[5 rows x 30 columns]"
      ]
     },
     "execution_count": 3,
     "metadata": {},
     "output_type": "execute_result"
    }
   ],
   "source": [
    "usadf.head()"
   ]
  },
  {
   "cell_type": "code",
   "execution_count": 4,
   "id": "99a82bde",
   "metadata": {},
   "outputs": [],
   "source": [
    "usa_tests = usadf[usadf[\"countryres_num\"].str.contains(\"U.S.A.\")==True]\n"
   ]
  },
  {
   "cell_type": "code",
   "execution_count": 5,
   "id": "e8d8a51b",
   "metadata": {},
   "outputs": [
    {
     "name": "stdout",
     "output_type": "stream",
     "text": [
      "<class 'pandas.core.frame.DataFrame'>\n",
      "Int64Index: 1035242 entries, 2 to 1381832\n",
      "Data columns (total 30 columns):\n",
      " #   Column            Non-Null Count    Dtype  \n",
      "---  ------            --------------    -----  \n",
      " 0   Unnamed: 0        1035242 non-null  int64  \n",
      " 1   session_id        1035242 non-null  float64\n",
      " 2   month             1035242 non-null  float64\n",
      " 3   year              1035242 non-null  int64  \n",
      " 4   hour              1035242 non-null  float64\n",
      " 5   Implicit Measure  1035242 non-null  float64\n",
      " 6   assocareer        1020125 non-null  object \n",
      " 7   assofamily        1019336 non-null  object \n",
      " 8   impcareer         1024059 non-null  object \n",
      " 9   impfamily         1023659 non-null  object \n",
      " 10  anninc            899557 non-null   object \n",
      " 11  percentanninc     928188 non-null   object \n",
      " 12  countryres_num    1035242 non-null  object \n",
      " 13  edu_14            1021919 non-null  float64\n",
      " 14  politicalid_7     1035242 non-null  object \n",
      " 15  STATE             915020 non-null   object \n",
      " 16  CountyNo          915020 non-null   float64\n",
      " 17  religionid        888612 non-null   object \n",
      " 18  age               1014248 non-null  float64\n",
      " 19  sex               1035242 non-null  object \n",
      " 20  havechildren      442808 non-null   object \n",
      " 21  raceomb           1035242 non-null  object \n",
      " 22  occu_bp           928335 non-null   object \n",
      " 23  assocareer_int    1020125 non-null  float64\n",
      " 24  religionid_int    888612 non-null   float64\n",
      " 25  edu_int           1021919 non-null  float64\n",
      " 26  impfamily_int     1023659 non-null  float64\n",
      " 27  impcareer_int     1024059 non-null  float64\n",
      " 28  assofamily_int    1019336 non-null  float64\n",
      " 29  political_int     1009109 non-null  float64\n",
      "dtypes: float64(14), int64(2), object(14)\n",
      "memory usage: 244.8+ MB\n"
     ]
    }
   ],
   "source": [
    "usa_tests.info()"
   ]
  },
  {
   "cell_type": "code",
   "execution_count": 6,
   "id": "198b09c5",
   "metadata": {},
   "outputs": [
    {
     "data": {
      "text/plain": [
       "2020    171341\n",
       "2019    124256\n",
       "2018    120690\n",
       "2017    109398\n",
       "2016     89583\n",
       "2015     71035\n",
       "2014     46589\n",
       "2013     44237\n",
       "2012     42157\n",
       "2009     36268\n",
       "2011     35140\n",
       "2010     34187\n",
       "2006     30981\n",
       "2008     30498\n",
       "2007     29818\n",
       "2005     19064\n",
       "Name: year, dtype: int64"
      ]
     },
     "execution_count": 6,
     "metadata": {},
     "output_type": "execute_result"
    }
   ],
   "source": [
    "usa_tests.year.value_counts()"
   ]
  },
  {
   "cell_type": "code",
   "execution_count": 7,
   "id": "56bde7ee",
   "metadata": {},
   "outputs": [
    {
     "name": "stderr",
     "output_type": "stream",
     "text": [
      "/opt/anaconda3/lib/python3.7/site-packages/pandas/core/frame.py:4315: SettingWithCopyWarning: \n",
      "A value is trying to be set on a copy of a slice from a DataFrame\n",
      "\n",
      "See the caveats in the documentation: https://pandas.pydata.org/pandas-docs/stable/user_guide/indexing.html#returning-a-view-versus-a-copy\n",
      "  errors=errors,\n"
     ]
    }
   ],
   "source": [
    "usa_tests.drop(columns=['Unnamed: 0', 'month', 'hour', 'assofamily', 'impcareer', \n",
    "                        'impfamily', 'percentanninc', 'countryres_num', 'havechildren', \n",
    "                       'impfamily_int', 'impcareer_int', 'assofamily_int'], inplace=True)"
   ]
  },
  {
   "cell_type": "code",
   "execution_count": 9,
   "id": "e917e1ae",
   "metadata": {},
   "outputs": [
    {
     "data": {
      "text/plain": [
       "2020    171341\n",
       "2019    124256\n",
       "2018    120690\n",
       "2017    109398\n",
       "2016     89583\n",
       "2015     71035\n",
       "2014     46589\n",
       "2013     44237\n",
       "2012     42157\n",
       "2009     36268\n",
       "2011     35140\n",
       "2010     34187\n",
       "2006     30981\n",
       "2008     30498\n",
       "2007     29818\n",
       "2005     19064\n",
       "Name: year, dtype: int64"
      ]
     },
     "execution_count": 9,
     "metadata": {},
     "output_type": "execute_result"
    }
   ],
   "source": [
    "usa_tests.year.value_counts()"
   ]
  },
  {
   "cell_type": "code",
   "execution_count": 13,
   "id": "f4a71fe3",
   "metadata": {},
   "outputs": [],
   "source": [
    "usa_2020 = usa_tests[usa_tests[\"year\"]==2020]\n"
   ]
  },
  {
   "cell_type": "code",
   "execution_count": 67,
   "id": "1f891b49",
   "metadata": {},
   "outputs": [],
   "source": [
    "usa_2005 = usa_tests[usa_tests['year']==2005]"
   ]
  },
  {
   "cell_type": "code",
   "execution_count": 28,
   "id": "baba6a10",
   "metadata": {},
   "outputs": [],
   "source": [
    "usa_2020 = usa_2020.dropna()"
   ]
  },
  {
   "cell_type": "code",
   "execution_count": 70,
   "id": "16bec097",
   "metadata": {},
   "outputs": [],
   "source": [
    "usa_2005 = usa_2005.drop(columns=['anninc', 'religionid', 'occu_bp', 'religionid_int'])"
   ]
  },
  {
   "cell_type": "code",
   "execution_count": 72,
   "id": "d273f68b",
   "metadata": {},
   "outputs": [],
   "source": [
    "usa_2005 = usa_2005.dropna()"
   ]
  },
  {
   "cell_type": "code",
   "execution_count": 73,
   "id": "94801961",
   "metadata": {},
   "outputs": [
    {
     "name": "stdout",
     "output_type": "stream",
     "text": [
      "<class 'pandas.core.frame.DataFrame'>\n",
      "Int64Index: 16808 entries, 205526 to 233102\n",
      "Data columns (total 14 columns):\n",
      " #   Column            Non-Null Count  Dtype  \n",
      "---  ------            --------------  -----  \n",
      " 0   session_id        16808 non-null  float64\n",
      " 1   year              16808 non-null  int64  \n",
      " 2   Implicit Measure  16808 non-null  float64\n",
      " 3   assocareer        16808 non-null  object \n",
      " 4   edu_14            16808 non-null  float64\n",
      " 5   politicalid_7     16808 non-null  object \n",
      " 6   STATE             16808 non-null  object \n",
      " 7   CountyNo          16808 non-null  float64\n",
      " 8   age               16808 non-null  float64\n",
      " 9   sex               16808 non-null  object \n",
      " 10  raceomb           16808 non-null  object \n",
      " 11  assocareer_int    16808 non-null  float64\n",
      " 12  edu_int           16808 non-null  float64\n",
      " 13  political_int     16808 non-null  float64\n",
      "dtypes: float64(8), int64(1), object(5)\n",
      "memory usage: 1.9+ MB\n"
     ]
    }
   ],
   "source": [
    "usa_2005.info()"
   ]
  },
  {
   "cell_type": "code",
   "execution_count": 35,
   "id": "d8f5524e",
   "metadata": {},
   "outputs": [],
   "source": [
    "usa_2020.to_csv('data/usa_2020.csv')"
   ]
  },
  {
   "cell_type": "code",
   "execution_count": 30,
   "id": "39e24a4a",
   "metadata": {},
   "outputs": [],
   "source": [
    "x = usa_2020[['Implicit Measure']]\n",
    "y = usa_2020[['assocareer_int']]"
   ]
  },
  {
   "cell_type": "code",
   "execution_count": 74,
   "id": "95a0a1d5",
   "metadata": {},
   "outputs": [],
   "source": [
    "a = usa_2005[['Implicit Measure']]\n",
    "b = usa_2005[['assocareer_int']]"
   ]
  },
  {
   "cell_type": "code",
   "execution_count": null,
   "id": "97d4145b",
   "metadata": {},
   "outputs": [],
   "source": []
  },
  {
   "cell_type": "code",
   "execution_count": null,
   "id": "6938d883",
   "metadata": {},
   "outputs": [],
   "source": []
  },
  {
   "cell_type": "code",
   "execution_count": 75,
   "id": "8c920a57",
   "metadata": {},
   "outputs": [],
   "source": [
    "regressor20 = LinearRegression()\n",
    "regressor20.fit(x, y)\n",
    "y_pred = regressor20.predict(x)"
   ]
  },
  {
   "cell_type": "code",
   "execution_count": 76,
   "id": "c4bfd2b2",
   "metadata": {},
   "outputs": [],
   "source": [
    "regressor5 = LinearRegression()\n",
    "regressor5.fit(a, b)\n",
    "y_pred = regressor5.predict(a)"
   ]
  },
  {
   "cell_type": "code",
   "execution_count": 79,
   "id": "c3fb6a84",
   "metadata": {},
   "outputs": [
    {
     "data": {
      "image/png": "[encoded data removed]",
      "text/plain": [
       "<Figure size 432x288 with 1 Axes>"
      ]
     },
     "metadata": {},
     "output_type": "display_data"
    }
   ],
   "source": [
    "plt.scatter(a, b, color = 'red')\n",
    "plt.plot(a, regressor5.predict(a), color = 'blue')\n",
    "plt.title('Implicit Measure v. Explicit Measure')\n",
    "plt.xlabel('Implicit Measure')\n",
    "plt.ylabel('Explicit Measure')\n",
    "plt.show()"
   ]
  },
  {
   "cell_type": "code",
   "execution_count": 77,
   "id": "29499526",
   "metadata": {},
   "outputs": [
    {
     "data": {
      "image/png": "[encoded data removed]",
      "text/plain": [
       "<Figure size 432x288 with 1 Axes>"
      ]
     },
     "metadata": {},
     "output_type": "display_data"
    }
   ],
   "source": [
    "plt.scatter(x, y, color = 'red')\n",
    "plt.plot(x, regressor20.predict(x), color = 'blue')\n",
    "plt.title('Implicit Measure v. Explicit Measure')\n",
    "plt.xlabel('Implicit Measure')\n",
    "plt.ylabel('Explicit Measure')\n",
    "plt.show()"
   ]
  },
  {
   "cell_type": "code",
   "execution_count": null,
   "id": "7344a4ec",
   "metadata": {},
   "outputs": [],
   "source": []
  },
  {
   "cell_type": "code",
   "execution_count": 37,
   "id": "c94ac7ae",
   "metadata": {},
   "outputs": [
    {
     "data": {
      "image/png": "[encoded data removed]",
      "text/plain": [
       "<Figure size 432x288 with 12 Axes>"
      ]
     },
     "metadata": {},
     "output_type": "display_data"
    }
   ],
   "source": [
    "usa_2020.hist();"
   ]
  },
  {
   "cell_type": "code",
   "execution_count": 39,
   "id": "00655829",
   "metadata": {},
   "outputs": [
    {
     "data": {
      "image/png": "[encoded data removed]",
      "text/plain": [
       "<Figure size 432x288 with 1 Axes>"
      ]
     },
     "metadata": {},
     "output_type": "display_data"
    }
   ],
   "source": [
    "plt.scatter(usa_2020['Implicit Measure'], usa_2020['assocareer_int']);"
   ]
  },
  {
   "cell_type": "code",
   "execution_count": 40,
   "id": "79e436a2",
   "metadata": {},
   "outputs": [],
   "source": [
    "import pandas as pd\n",
    "import numpy as np\n",
    "from scipy import stats\n",
    "from datetime import datetime\n",
    "from sklearn import preprocessing\n",
    "from sklearn.model_selection import KFold\n",
    "from sklearn.linear_model import LinearRegression\n",
    "import matplotlib.pyplot as plt\n",
    "%matplotlib inline\n"
   ]
  },
  {
   "cell_type": "code",
   "execution_count": 41,
   "id": "218cd740",
   "metadata": {},
   "outputs": [
    {
     "name": "stdout",
     "output_type": "stream",
     "text": [
      "[0.004648730938074164, 0.004203989141913778, 0.0036667294719358035]\n"
     ]
    }
   ],
   "source": [
    "X = pd.DataFrame(usa_2020['Implicit Measure'])\n",
    "y = pd.DataFrame(usa_2020['assocareer_int'])\n",
    "model = LinearRegression()\n",
    "scores = []\n",
    "kfold = KFold(n_splits=3, shuffle=True, random_state=42)\n",
    "for i, (train, test) in enumerate(kfold.split(X, y)):\n",
    "    model.fit(X.iloc[train,:], y.iloc[train,:])\n",
    "    score = model.score(X.iloc[test,:], y.iloc[test,:])\n",
    "    scores.append(score)\n",
    "print(scores)"
   ]
  },
  {
   "cell_type": "code",
   "execution_count": 56,
   "id": "99f532b4",
   "metadata": {},
   "outputs": [],
   "source": [
    "usa_2020 = usa_2020.rename(columns={\"Implicit Measure\": \"Implicit_Score\", \"assocareer\": \"Explicit_Reported\"})"
   ]
  },
  {
   "cell_type": "code",
   "execution_count": 80,
   "id": "103a12f9",
   "metadata": {},
   "outputs": [
    {
     "name": "stdout",
     "output_type": "stream",
     "text": [
      "                Implicit_Score  assocareer_int   edu_int  political_int  \\\n",
      "Implicit_Score        1.000000        0.064723  0.008918      -0.045152   \n",
      "assocareer_int        0.064723        1.000000  0.030923      -0.086746   \n",
      "edu_int               0.008918        0.030923  1.000000       0.125214   \n",
      "political_int        -0.045152       -0.086746  0.125214       1.000000   \n",
      "religionid_int        0.053628        0.023754 -0.037475      -0.395356   \n",
      "age                   0.058597        0.031192  0.520909      -0.011916   \n",
      "\n",
      "                religionid_int       age  \n",
      "Implicit_Score        0.053628  0.058597  \n",
      "assocareer_int        0.023754  0.031192  \n",
      "edu_int              -0.037475  0.520909  \n",
      "political_int        -0.395356 -0.011916  \n",
      "religionid_int        1.000000  0.052169  \n",
      "age                   0.052169  1.000000  \n",
      "Intercept              0.247222\n",
      "sex[T.Male]           -0.122047\n",
      "sex[T.Not Reported]   -0.100972\n",
      "assocareer_int         0.024847\n",
      "age                    0.002061\n",
      "religionid_int         0.008179\n",
      "political_int         -0.009611\n",
      "edu_int               -0.002608\n",
      "dtype: float64\n",
      "                            OLS Regression Results                            \n",
      "==============================================================================\n",
      "Dep. Variable:         Implicit_Score   R-squared:                       0.033\n",
      "Model:                            OLS   Adj. R-squared:                  0.033\n",
      "Method:                 Least Squares   F-statistic:                     614.3\n",
      "Date:                Thu, 08 Apr 2021   Prob (F-statistic):               0.00\n",
      "Time:                        13:21:34   Log-Likelihood:                -49978.\n",
      "No. Observations:              127469   AIC:                         9.997e+04\n",
      "Df Residuals:                  127461   BIC:                         1.001e+05\n",
      "Df Model:                           7                                         \n",
      "Covariance Type:            nonrobust                                         \n",
      "=======================================================================================\n",
      "                          coef    std err          t      P>|t|      [0.025      0.975]\n",
      "---------------------------------------------------------------------------------------\n",
      "Intercept               0.2472      0.007     37.517      0.000       0.234       0.260\n",
      "sex[T.Male]            -0.1220      0.002    -53.771      0.000      -0.126      -0.118\n",
      "sex[T.Not Reported]    -0.1010      0.049     -2.071      0.038      -0.197      -0.005\n",
      "assocareer_int          0.0248      0.001     29.776      0.000       0.023       0.026\n",
      "age                     0.0021   8.86e-05     23.270      0.000       0.002       0.002\n",
      "religionid_int          0.0082      0.001      7.311      0.000       0.006       0.010\n",
      "political_int          -0.0096      0.001    -14.369      0.000      -0.011      -0.008\n",
      "edu_int                -0.0026      0.000     -5.265      0.000      -0.004      -0.002\n",
      "==============================================================================\n",
      "Omnibus:                     2019.713   Durbin-Watson:                   2.007\n",
      "Prob(Omnibus):                  0.000   Jarque-Bera (JB):             2121.396\n",
      "Skew:                          -0.308   Prob(JB):                         0.00\n",
      "Kurtosis:                       3.140   Cond. No.                     1.79e+03\n",
      "==============================================================================\n",
      "\n",
      "Notes:\n",
      "[1] Standard Errors assume that the covariance matrix of the errors is correctly specified.\n",
      "[2] The condition number is large, 1.79e+03. This might indicate that there are\n",
      "strong multicollinearity or other numerical problems.\n"
     ]
    }
   ],
   "source": [
    "import pandas\n",
    "import statsmodels.api as sm\n",
    "from statsmodels.formula.api import ols\n",
    "\n",
    "data = usa_2020[['Implicit_Score', 'assocareer_int', 'edu_int', 'political_int', 'religionid_int', 'age', 'sex']]\n",
    "print(data.corr())\n",
    "\n",
    "model = ols(\"Implicit_Score ~ assocareer_int + age + sex + religionid_int + political_int + edu_int\", data=data).fit()\n",
    "print(model.params)\n",
    "print(model.summary())"
   ]
  },
  {
   "cell_type": "code",
   "execution_count": null,
   "id": "eb02be01",
   "metadata": {},
   "outputs": [],
   "source": []
  },
  {
   "cell_type": "code",
   "execution_count": null,
   "id": "d80b6f24",
   "metadata": {},
   "outputs": [],
   "source": []
  }
 ],
 "metadata": {
  "kernelspec": {
   "display_name": "Python 3",
   "language": "python",
   "name": "python3"
  },
  "language_info": {
   "codemirror_mode": {
    "name": "ipython",
    "version": 3
   },
   "file_extension": ".py",
   "mimetype": "text/x-python",
   "name": "python",
   "nbconvert_exporter": "python",
   "pygments_lexer": "ipython3",
   "version": "3.7.7"
  }
 },
 "nbformat": 4,
 "nbformat_minor": 5
}
